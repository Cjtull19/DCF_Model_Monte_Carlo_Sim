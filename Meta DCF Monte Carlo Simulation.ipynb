{
 "cells": [
  {
   "cell_type": "markdown",
   "id": "4a42750e-b036-4291-8a8a-8eb34528f97d",
   "metadata": {},
   "source": [
    "# META Monte Carlo Simulation"
   ]
  },
  {
   "cell_type": "markdown",
   "id": "28d17ea5-8868-4f19-924b-762009dabd48",
   "metadata": {},
   "source": [
    "### Table of Contents\n",
    "\n",
    "- [**Parameter Extraction From Excel & Standard Deviation Assumptions**](#params)\n",
    "    - [Function : Random Normal Variable for WACC and Terminal Growth Rate](#function1)\n",
    "    - [Function : Calculate Implied Stock Price and Enterprise Value](#function2)\n",
    "- [**Monte Carlo Simulation**](#Monte)\n",
    "- [**Visualizations**](#Visualizations)\n",
    "    - [Histograms of Implied Enterpirse Value and Implied Stock Price](#histogram)\n",
    "     - [Quantiles ](#quantiles)\n",
    "- [**Output vs Inputs**](#scatter)\n",
    "- [**Regression**](#regression)"
   ]
  },
  {
   "cell_type": "markdown",
   "id": "bb63b8d9-3ede-41f2-8598-e684f0d63f7b",
   "metadata": {},
   "source": [
    "## Imports"
   ]
  },
  {
   "cell_type": "code",
   "execution_count": 1,
   "id": "271c1633-4cb3-4711-98f7-207a752ae732",
   "metadata": {},
   "outputs": [],
   "source": [
    "import xlwings as xw\n",
    "import pandas as pd\n",
    "import random as rand\n",
    "import numpy_financial as npf\n",
    "from dataclasses import dataclass\n",
    "import matplotlib.pyplot as plt\n",
    "import statsmodels.api as sm\n",
    "plt.style.use(\"seaborn-dark\")"
   ]
  },
  {
   "cell_type": "markdown",
   "id": "6f5d87c3-6688-4f92-a1a1-007c881995c0",
   "metadata": {},
   "source": [
    "# <a id='params'>Parameter Extraction From Excel & Standard Deviation Assumptions</a>"
   ]
  },
  {
   "cell_type": "markdown",
   "id": "d99aa98d-af79-4841-9c2c-7084da0badf2",
   "metadata": {},
   "source": [
    "Below we connect to the DCF Model in Excel. From this Model we will extract all the relevant information necessary to run the monte Carlo Simulation."
   ]
  },
  {
   "cell_type": "code",
   "execution_count": 2,
   "id": "0f78e4f3-b603-4bb2-a23b-09bcea5e5d5f",
   "metadata": {},
   "outputs": [],
   "source": [
    "operating_model = xw.Book(\"Meta Operating Model V.1.xlsx\")\n",
    "dcf_sheet = operating_model.sheets['DCF']"
   ]
  },
  {
   "cell_type": "markdown",
   "id": "7ad13657-8bb5-4a4e-9763-97768c259e5a",
   "metadata": {},
   "source": [
    "Below we create a data class which will extract all relevant values needed for calculating the Implied Stock Price From the DCF Model. We Also define assumptions for the WACC and Terminal Growth Rate. These two rates will be normally distributed for n iterations to analyze their effect on the Implied Stock price."
   ]
  },
  {
   "cell_type": "code",
   "execution_count": 3,
   "id": "0a6aac70-ab76-4ccc-beb0-bc70eb1080ef",
   "metadata": {},
   "outputs": [],
   "source": [
    "@dataclass\n",
    "class Model:\n",
    "    wacc_expected_value :float = dcf_sheet.range('E16').value\n",
    "    terminal_growth_rate_expected_value :float = dcf_sheet.range('E17').value\n",
    "    free_cash_flows_to_firm  = dcf_sheet.range('D33:H33').value\n",
    "    cash_cash_equivalents :float = dcf_sheet.range('H49').value\n",
    "    marketable_sec :float = dcf_sheet.range('H50').value\n",
    "    long_term_debt :float = dcf_sheet.range('H51').value\n",
    "    shares_out_standing :float = dcf_sheet.range('H53').value\n",
    "    wacc_stdev :float = 0.0125\n",
    "    terminal_growth_rate_stdev :float = 0.005"
   ]
  },
  {
   "cell_type": "markdown",
   "id": "6e186717-5fdb-4f2c-a5f1-4e4d2c7748ce",
   "metadata": {},
   "source": [
    "Below we create an instance of the Model class which will be used mainly as a function parameter nad easy way access properties from the data class"
   ]
  },
  {
   "cell_type": "code",
   "execution_count": 4,
   "id": "6c8f2fcd-39b2-4795-8029-fd80a002d80d",
   "metadata": {},
   "outputs": [],
   "source": [
    "data = Model()"
   ]
  },
  {
   "cell_type": "markdown",
   "id": "2a9118b8-ca34-4779-89c2-48a0be90cdbd",
   "metadata": {},
   "source": [
    "### <a id='function1'>Function for Normal Random Variables : Terminal Growth Rate and WACC</a>"
   ]
  },
  {
   "cell_type": "code",
   "execution_count": 5,
   "id": "96f6c116-3c53-4c2a-94d5-52a5d77acf11",
   "metadata": {},
   "outputs": [],
   "source": [
    "def rand_wacc(data) :\n",
    "    return rand.normalvariate(data.wacc_expected_value,data.wacc_stdev)\n",
    "\n",
    "def rand_tgr (data) :\n",
    "    return rand.normalvariate(data.terminal_growth_rate_expected_value,data.terminal_growth_rate_stdev)"
   ]
  },
  {
   "cell_type": "markdown",
   "id": "314dbb84-8895-4fa4-8e4e-320a505cd8c6",
   "metadata": {},
   "source": [
    "### <a id='function2'>Function(s) for Calculating Implied Enterprise Value and Stock Price With Model Data</a>"
   ]
  },
  {
   "cell_type": "markdown",
   "id": "03c29705-5fe7-4770-a281-a63a874421b7",
   "metadata": {},
   "source": [
    "Below are the functions which will be utilized to run the simulations. The Functions below are built to reflect the current Excel Model Out put to confirm that it is functioning as intended. Later These functions will be modified to expect random values for the WACC and Terminal Growth Rate."
   ]
  },
  {
   "cell_type": "code",
   "execution_count": 6,
   "id": "eb8920a3-d078-46dc-8a4e-35d94ebd44ac",
   "metadata": {},
   "outputs": [
    {
     "data": {
      "text/plain": [
       "300189.9699001884"
      ]
     },
     "execution_count": 6,
     "metadata": {},
     "output_type": "execute_result"
    }
   ],
   "source": [
    "def implied_enterprise_value (data):\n",
    "    g_rate = data.terminal_growth_rate_expected_value\n",
    "    wacc = data.wacc_expected_value\n",
    "    new_fcff_list = [x for x in data.free_cash_flows_to_firm]\n",
    "    terminal_value = (new_fcff_list[-1]*(1+g_rate)/(wacc - g_rate))\n",
    "    new_fcff_list[-1] = new_fcff_list[-1]+ terminal_value\n",
    "    enterprise_value = npf.npv(wacc,[0] + new_fcff_list)\n",
    "    return enterprise_value\n",
    "implied_enterprise_value(data)"
   ]
  },
  {
   "cell_type": "code",
   "execution_count": 7,
   "id": "57d76e09-fdc5-4540-ac82-1c414ed2dd87",
   "metadata": {},
   "outputs": [
    {
     "data": {
      "text/plain": [
       "122.50368982242354"
      ]
     },
     "execution_count": 7,
     "metadata": {},
     "output_type": "execute_result"
    }
   ],
   "source": [
    "def implied_stock_price (data):\n",
    "    enterpise_val = implied_enterprise_value (data)\n",
    "    cash_equiv = data.cash_cash_equivalents\n",
    "    mark_sec = data.marketable_sec\n",
    "    debt = data.long_term_debt\n",
    "    shares= data.shares_out_standing\n",
    "    stock_price = (enterpise_val + cash_equiv+mark_sec+debt)/shares\n",
    "    return stock_price\n",
    "implied_stock_price (data)"
   ]
  },
  {
   "cell_type": "markdown",
   "id": "022fbd4c-57e6-4477-a5f8-65a2b70d1bdd",
   "metadata": {
    "tags": []
   },
   "source": [
    "# <a id='Monte'>Monte Carlo Simulation</a>"
   ]
  },
  {
   "cell_type": "code",
   "execution_count": 8,
   "id": "072feb52-96ec-4372-a883-2264215b3c56",
   "metadata": {},
   "outputs": [],
   "source": [
    "n_iterations = 10000"
   ]
  },
  {
   "cell_type": "code",
   "execution_count": 9,
   "id": "180075d2-ce0a-4737-91dd-8b907ffd771f",
   "metadata": {},
   "outputs": [
    {
     "data": {
      "text/html": [
       "<div>\n",
       "<style scoped>\n",
       "    .dataframe tbody tr th:only-of-type {\n",
       "        vertical-align: middle;\n",
       "    }\n",
       "\n",
       "    .dataframe tbody tr th {\n",
       "        vertical-align: top;\n",
       "    }\n",
       "\n",
       "    .dataframe thead th {\n",
       "        text-align: right;\n",
       "    }\n",
       "</style>\n",
       "<table border=\"1\" class=\"dataframe\">\n",
       "  <thead>\n",
       "    <tr style=\"text-align: right;\">\n",
       "      <th></th>\n",
       "      <th>WACC</th>\n",
       "      <th>Terminal Growth Rate</th>\n",
       "      <th>Implied Enterprise Value</th>\n",
       "      <th>Implied Stock Price</th>\n",
       "    </tr>\n",
       "  </thead>\n",
       "  <tbody>\n",
       "    <tr>\n",
       "      <th>0</th>\n",
       "      <td>0.111605</td>\n",
       "      <td>0.042860</td>\n",
       "      <td>324872.008273</td>\n",
       "      <td>131.638419</td>\n",
       "    </tr>\n",
       "    <tr>\n",
       "      <th>1</th>\n",
       "      <td>0.113509</td>\n",
       "      <td>0.030909</td>\n",
       "      <td>278667.956667</td>\n",
       "      <td>114.538474</td>\n",
       "    </tr>\n",
       "    <tr>\n",
       "      <th>2</th>\n",
       "      <td>0.109566</td>\n",
       "      <td>0.038951</td>\n",
       "      <td>320042.192638</td>\n",
       "      <td>129.850923</td>\n",
       "    </tr>\n",
       "    <tr>\n",
       "      <th>3</th>\n",
       "      <td>0.113841</td>\n",
       "      <td>0.034994</td>\n",
       "      <td>288767.976861</td>\n",
       "      <td>118.276453</td>\n",
       "    </tr>\n",
       "    <tr>\n",
       "      <th>4</th>\n",
       "      <td>0.084062</td>\n",
       "      <td>0.024889</td>\n",
       "      <td>404267.177900</td>\n",
       "      <td>161.022272</td>\n",
       "    </tr>\n",
       "    <tr>\n",
       "      <th>...</th>\n",
       "      <td>...</td>\n",
       "      <td>...</td>\n",
       "      <td>...</td>\n",
       "      <td>...</td>\n",
       "    </tr>\n",
       "    <tr>\n",
       "      <th>9995</th>\n",
       "      <td>0.101124</td>\n",
       "      <td>0.020112</td>\n",
       "      <td>294931.372647</td>\n",
       "      <td>120.557503</td>\n",
       "    </tr>\n",
       "    <tr>\n",
       "      <th>9996</th>\n",
       "      <td>0.096133</td>\n",
       "      <td>0.033432</td>\n",
       "      <td>369379.018054</td>\n",
       "      <td>148.110295</td>\n",
       "    </tr>\n",
       "    <tr>\n",
       "      <th>9997</th>\n",
       "      <td>0.107224</td>\n",
       "      <td>0.034642</td>\n",
       "      <td>315478.262221</td>\n",
       "      <td>128.161829</td>\n",
       "    </tr>\n",
       "    <tr>\n",
       "      <th>9998</th>\n",
       "      <td>0.117847</td>\n",
       "      <td>0.035191</td>\n",
       "      <td>274542.747525</td>\n",
       "      <td>113.011750</td>\n",
       "    </tr>\n",
       "    <tr>\n",
       "      <th>9999</th>\n",
       "      <td>0.101852</td>\n",
       "      <td>0.036132</td>\n",
       "      <td>348398.003353</td>\n",
       "      <td>140.345301</td>\n",
       "    </tr>\n",
       "  </tbody>\n",
       "</table>\n",
       "<p>10000 rows × 4 columns</p>\n",
       "</div>"
      ],
      "text/plain": [
       "          WACC  Terminal Growth Rate  Implied Enterprise Value  \\\n",
       "0     0.111605              0.042860             324872.008273   \n",
       "1     0.113509              0.030909             278667.956667   \n",
       "2     0.109566              0.038951             320042.192638   \n",
       "3     0.113841              0.034994             288767.976861   \n",
       "4     0.084062              0.024889             404267.177900   \n",
       "...        ...                   ...                       ...   \n",
       "9995  0.101124              0.020112             294931.372647   \n",
       "9996  0.096133              0.033432             369379.018054   \n",
       "9997  0.107224              0.034642             315478.262221   \n",
       "9998  0.117847              0.035191             274542.747525   \n",
       "9999  0.101852              0.036132             348398.003353   \n",
       "\n",
       "      Implied Stock Price  \n",
       "0              131.638419  \n",
       "1              114.538474  \n",
       "2              129.850923  \n",
       "3              118.276453  \n",
       "4              161.022272  \n",
       "...                   ...  \n",
       "9995           120.557503  \n",
       "9996           148.110295  \n",
       "9997           128.161829  \n",
       "9998           113.011750  \n",
       "9999           140.345301  \n",
       "\n",
       "[10000 rows x 4 columns]"
      ]
     },
     "execution_count": 9,
     "metadata": {},
     "output_type": "execute_result"
    }
   ],
   "source": [
    "def enterprise_value_stock_price(data):\n",
    "    table = []\n",
    "    for i in range(n_iterations):\n",
    "        g_rate = rand_tgr(data)\n",
    "        wacc = rand_wacc (data)\n",
    "        new_fcff_list = [x for x in data.free_cash_flows_to_firm]\n",
    "        terminal_value = (new_fcff_list[-1]*(1+g_rate)/(wacc - g_rate))\n",
    "        new_fcff_list[-1] = new_fcff_list[-1]+ terminal_value\n",
    "        enterprise_value = npf.npv(wacc,[0] + new_fcff_list)\n",
    "        \n",
    "        cash_equiv = data.cash_cash_equivalents\n",
    "        mark_sec = data.marketable_sec\n",
    "        debt = data.long_term_debt\n",
    "        shares= data.shares_out_standing\n",
    "        stock_price = (enterprise_value + cash_equiv+mark_sec+debt)/shares\n",
    "        \n",
    "        table.append((wacc,g_rate,enterprise_value,stock_price))\n",
    "    \n",
    "    df = pd.DataFrame(table,columns=[\"WACC\",\"Terminal Growth Rate\", \"Implied Enterprise Value\",\"Implied Stock Price\"])\n",
    "    return df\n",
    "    \n",
    "monte_carlo_df = enterprise_value_stock_price(data)\n",
    "monte_carlo_df"
   ]
  },
  {
   "cell_type": "markdown",
   "id": "9c847402-9ee9-49f2-91d7-24ea5dc1de67",
   "metadata": {},
   "source": [
    "## <a id='Visualizations'>Visualizations</a>"
   ]
  },
  {
   "cell_type": "code",
   "execution_count": 10,
   "id": "b5c72fe7-44d1-4a6c-8034-6caa73be6de7",
   "metadata": {},
   "outputs": [],
   "source": [
    "def styled_df(df):\n",
    "    return df.style.format({\n",
    "        'WACC': '{:.2%}',\n",
    "        'Terminal Growth Rate': '{:.2%}',\n",
    "        'Implied Enterprise Value': '${:,.2f}',\n",
    "        'Implied Stock Price': '${:,.2f}'\n",
    "    }).background_gradient(cmap='RdYlGn',subset=['Implied Stock Price'])"
   ]
  },
  {
   "cell_type": "code",
   "execution_count": 11,
   "id": "8cc1169f-2c09-40b5-8895-07f5b4d1433e",
   "metadata": {},
   "outputs": [
    {
     "data": {
      "text/html": [
       "<style type=\"text/css\">\n",
       "#T_02ddf_row0_col3 {\n",
       "  background-color: #e5f49b;\n",
       "  color: #000000;\n",
       "}\n",
       "#T_02ddf_row1_col3 {\n",
       "  background-color: #fdb768;\n",
       "  color: #000000;\n",
       "}\n",
       "#T_02ddf_row2_col3 {\n",
       "  background-color: #eef8a8;\n",
       "  color: #000000;\n",
       "}\n",
       "#T_02ddf_row3_col3 {\n",
       "  background-color: #fed27f;\n",
       "  color: #000000;\n",
       "}\n",
       "#T_02ddf_row4_col3 {\n",
       "  background-color: #006837;\n",
       "  color: #f1f1f1;\n",
       "}\n",
       "#T_02ddf_row5_col3 {\n",
       "  background-color: #a50026;\n",
       "  color: #f1f1f1;\n",
       "}\n",
       "#T_02ddf_row6_col3 {\n",
       "  background-color: #a9da6c;\n",
       "  color: #000000;\n",
       "}\n",
       "#T_02ddf_row7_col3 {\n",
       "  background-color: #fed481;\n",
       "  color: #000000;\n",
       "}\n",
       "#T_02ddf_row8_col3 {\n",
       "  background-color: #f7844e;\n",
       "  color: #f1f1f1;\n",
       "}\n",
       "#T_02ddf_row9_col3 {\n",
       "  background-color: #fee695;\n",
       "  color: #000000;\n",
       "}\n",
       "</style>\n",
       "<table id=\"T_02ddf\">\n",
       "  <thead>\n",
       "    <tr>\n",
       "      <th class=\"blank level0\" >&nbsp;</th>\n",
       "      <th id=\"T_02ddf_level0_col0\" class=\"col_heading level0 col0\" >WACC</th>\n",
       "      <th id=\"T_02ddf_level0_col1\" class=\"col_heading level0 col1\" >Terminal Growth Rate</th>\n",
       "      <th id=\"T_02ddf_level0_col2\" class=\"col_heading level0 col2\" >Implied Enterprise Value</th>\n",
       "      <th id=\"T_02ddf_level0_col3\" class=\"col_heading level0 col3\" >Implied Stock Price</th>\n",
       "    </tr>\n",
       "  </thead>\n",
       "  <tbody>\n",
       "    <tr>\n",
       "      <th id=\"T_02ddf_level0_row0\" class=\"row_heading level0 row0\" >0</th>\n",
       "      <td id=\"T_02ddf_row0_col0\" class=\"data row0 col0\" >11.16%</td>\n",
       "      <td id=\"T_02ddf_row0_col1\" class=\"data row0 col1\" >4.29%</td>\n",
       "      <td id=\"T_02ddf_row0_col2\" class=\"data row0 col2\" >$324,872.01</td>\n",
       "      <td id=\"T_02ddf_row0_col3\" class=\"data row0 col3\" >$131.64</td>\n",
       "    </tr>\n",
       "    <tr>\n",
       "      <th id=\"T_02ddf_level0_row1\" class=\"row_heading level0 row1\" >1</th>\n",
       "      <td id=\"T_02ddf_row1_col0\" class=\"data row1 col0\" >11.35%</td>\n",
       "      <td id=\"T_02ddf_row1_col1\" class=\"data row1 col1\" >3.09%</td>\n",
       "      <td id=\"T_02ddf_row1_col2\" class=\"data row1 col2\" >$278,667.96</td>\n",
       "      <td id=\"T_02ddf_row1_col3\" class=\"data row1 col3\" >$114.54</td>\n",
       "    </tr>\n",
       "    <tr>\n",
       "      <th id=\"T_02ddf_level0_row2\" class=\"row_heading level0 row2\" >2</th>\n",
       "      <td id=\"T_02ddf_row2_col0\" class=\"data row2 col0\" >10.96%</td>\n",
       "      <td id=\"T_02ddf_row2_col1\" class=\"data row2 col1\" >3.90%</td>\n",
       "      <td id=\"T_02ddf_row2_col2\" class=\"data row2 col2\" >$320,042.19</td>\n",
       "      <td id=\"T_02ddf_row2_col3\" class=\"data row2 col3\" >$129.85</td>\n",
       "    </tr>\n",
       "    <tr>\n",
       "      <th id=\"T_02ddf_level0_row3\" class=\"row_heading level0 row3\" >3</th>\n",
       "      <td id=\"T_02ddf_row3_col0\" class=\"data row3 col0\" >11.38%</td>\n",
       "      <td id=\"T_02ddf_row3_col1\" class=\"data row3 col1\" >3.50%</td>\n",
       "      <td id=\"T_02ddf_row3_col2\" class=\"data row3 col2\" >$288,767.98</td>\n",
       "      <td id=\"T_02ddf_row3_col3\" class=\"data row3 col3\" >$118.28</td>\n",
       "    </tr>\n",
       "    <tr>\n",
       "      <th id=\"T_02ddf_level0_row4\" class=\"row_heading level0 row4\" >4</th>\n",
       "      <td id=\"T_02ddf_row4_col0\" class=\"data row4 col0\" >8.41%</td>\n",
       "      <td id=\"T_02ddf_row4_col1\" class=\"data row4 col1\" >2.49%</td>\n",
       "      <td id=\"T_02ddf_row4_col2\" class=\"data row4 col2\" >$404,267.18</td>\n",
       "      <td id=\"T_02ddf_row4_col3\" class=\"data row4 col3\" >$161.02</td>\n",
       "    </tr>\n",
       "    <tr>\n",
       "      <th id=\"T_02ddf_level0_row5\" class=\"row_heading level0 row5\" >5</th>\n",
       "      <td id=\"T_02ddf_row5_col0\" class=\"data row5 col0\" >13.33%</td>\n",
       "      <td id=\"T_02ddf_row5_col1\" class=\"data row5 col1\" >2.97%</td>\n",
       "      <td id=\"T_02ddf_row5_col2\" class=\"data row5 col2\" >$219,673.64</td>\n",
       "      <td id=\"T_02ddf_row5_col3\" class=\"data row5 col3\" >$92.70</td>\n",
       "    </tr>\n",
       "    <tr>\n",
       "      <th id=\"T_02ddf_level0_row6\" class=\"row_heading level0 row6\" >6</th>\n",
       "      <td id=\"T_02ddf_row6_col0\" class=\"data row6 col0\" >9.81%</td>\n",
       "      <td id=\"T_02ddf_row6_col1\" class=\"data row6 col1\" >3.12%</td>\n",
       "      <td id=\"T_02ddf_row6_col2\" class=\"data row6 col2\" >$347,768.30</td>\n",
       "      <td id=\"T_02ddf_row6_col3\" class=\"data row6 col3\" >$140.11</td>\n",
       "    </tr>\n",
       "    <tr>\n",
       "      <th id=\"T_02ddf_level0_row7\" class=\"row_heading level0 row7\" >7</th>\n",
       "      <td id=\"T_02ddf_row7_col0\" class=\"data row7 col0\" >11.06%</td>\n",
       "      <td id=\"T_02ddf_row7_col1\" class=\"data row7 col1\" >3.08%</td>\n",
       "      <td id=\"T_02ddf_row7_col2\" class=\"data row7 col2\" >$289,387.56</td>\n",
       "      <td id=\"T_02ddf_row7_col3\" class=\"data row7 col3\" >$118.51</td>\n",
       "    </tr>\n",
       "    <tr>\n",
       "      <th id=\"T_02ddf_level0_row8\" class=\"row_heading level0 row8\" >8</th>\n",
       "      <td id=\"T_02ddf_row8_col0\" class=\"data row8 col0\" >11.46%</td>\n",
       "      <td id=\"T_02ddf_row8_col1\" class=\"data row8 col1\" >2.61%</td>\n",
       "      <td id=\"T_02ddf_row8_col2\" class=\"data row8 col2\" >$263,067.38</td>\n",
       "      <td id=\"T_02ddf_row8_col3\" class=\"data row8 col3\" >$108.76</td>\n",
       "    </tr>\n",
       "    <tr>\n",
       "      <th id=\"T_02ddf_level0_row9\" class=\"row_heading level0 row9\" >9</th>\n",
       "      <td id=\"T_02ddf_row9_col0\" class=\"data row9 col0\" >11.13%</td>\n",
       "      <td id=\"T_02ddf_row9_col1\" class=\"data row9 col1\" >3.44%</td>\n",
       "      <td id=\"T_02ddf_row9_col2\" class=\"data row9 col2\" >$297,205.86</td>\n",
       "      <td id=\"T_02ddf_row9_col3\" class=\"data row9 col3\" >$121.40</td>\n",
       "    </tr>\n",
       "  </tbody>\n",
       "</table>\n"
      ],
      "text/plain": [
       "<pandas.io.formats.style.Styler at 0x2075c1f1340>"
      ]
     },
     "execution_count": 11,
     "metadata": {},
     "output_type": "execute_result"
    }
   ],
   "source": [
    "styled_df(monte_carlo_df.head(10))"
   ]
  },
  {
   "cell_type": "markdown",
   "id": "21b3d970-d81a-4b39-acb4-d7845faa8fcc",
   "metadata": {
    "tags": []
   },
   "source": [
    "# <a id='histogram'>Histograms </a>"
   ]
  },
  {
   "cell_type": "code",
   "execution_count": 12,
   "id": "0538f301-244a-4a34-9f00-45eb643b8fb9",
   "metadata": {},
   "outputs": [
    {
     "data": {
      "image/png": "[encoded data removed]",
      "text/plain": [
       "<Figure size 2400x1000 with 2 Axes>"
      ]
     },
     "metadata": {},
     "output_type": "display_data"
    }
   ],
   "source": [
    "plt.figure(figsize=(12,5),dpi=200)\n",
    "plt.suptitle(\"Enterprise Value and Stock Price Histograms\")\n",
    "\n",
    "plt.subplot(1,2,1)\n",
    "monte_carlo_df[\"Implied Enterprise Value\"].plot(kind=\"hist\",bins = 100)\n",
    "plt.title(\"Implied Enterprise Value\")\n",
    "\n",
    "plt.subplot(1,2,2)\n",
    "monte_carlo_df[\"Implied Stock Price\"].plot(kind=\"hist\", bins = 100)\n",
    "plt.title(\"Implied Stock Price\")\n",
    "\n",
    "plt.tight_layout()"
   ]
  },
  {
   "cell_type": "markdown",
   "id": "1a5f305d-7dab-47ad-b91c-ae6d1f4f289e",
   "metadata": {},
   "source": [
    "## <a id='quantiles'>Quantiles</a>"
   ]
  },
  {
   "cell_type": "code",
   "execution_count": 13,
   "id": "ba326bd6-0403-44dd-87f2-7dad889a3172",
   "metadata": {},
   "outputs": [
    {
     "data": {
      "text/html": [
       "<style type=\"text/css\">\n",
       "#T_37efb_row0_col3 {\n",
       "  background-color: #a50026;\n",
       "  color: #f1f1f1;\n",
       "}\n",
       "#T_37efb_row1_col3 {\n",
       "  background-color: #c21c27;\n",
       "  color: #f1f1f1;\n",
       "}\n",
       "#T_37efb_row2_col3 {\n",
       "  background-color: #db382b;\n",
       "  color: #f1f1f1;\n",
       "}\n",
       "#T_37efb_row3_col3 {\n",
       "  background-color: #e65036;\n",
       "  color: #f1f1f1;\n",
       "}\n",
       "#T_37efb_row4_col3 {\n",
       "  background-color: #ef633f;\n",
       "  color: #f1f1f1;\n",
       "}\n",
       "#T_37efb_row5_col3 {\n",
       "  background-color: #f67a49;\n",
       "  color: #f1f1f1;\n",
       "}\n",
       "#T_37efb_row6_col3 {\n",
       "  background-color: #f99153;\n",
       "  color: #000000;\n",
       "}\n",
       "#T_37efb_row7_col3 {\n",
       "  background-color: #fca55d;\n",
       "  color: #000000;\n",
       "}\n",
       "#T_37efb_row8_col3 {\n",
       "  background-color: #fdb96a;\n",
       "  color: #000000;\n",
       "}\n",
       "#T_37efb_row9_col3 {\n",
       "  background-color: #feca79;\n",
       "  color: #000000;\n",
       "}\n",
       "#T_37efb_row10_col3 {\n",
       "  background-color: #fedc88;\n",
       "  color: #000000;\n",
       "}\n",
       "#T_37efb_row11_col3 {\n",
       "  background-color: #feea9b;\n",
       "  color: #000000;\n",
       "}\n",
       "#T_37efb_row12_col3 {\n",
       "  background-color: #fff6b0;\n",
       "  color: #000000;\n",
       "}\n",
       "#T_37efb_row13_col3 {\n",
       "  background-color: #f8fcb6;\n",
       "  color: #000000;\n",
       "}\n",
       "#T_37efb_row14_col3 {\n",
       "  background-color: #e3f399;\n",
       "  color: #000000;\n",
       "}\n",
       "#T_37efb_row15_col3 {\n",
       "  background-color: #c7e77f;\n",
       "  color: #000000;\n",
       "}\n",
       "#T_37efb_row16_col3 {\n",
       "  background-color: #9dd569;\n",
       "  color: #000000;\n",
       "}\n",
       "#T_37efb_row17_col3 {\n",
       "  background-color: #5db961;\n",
       "  color: #f1f1f1;\n",
       "}\n",
       "#T_37efb_row18_col3 {\n",
       "  background-color: #006837;\n",
       "  color: #f1f1f1;\n",
       "}\n",
       "</style>\n",
       "<table id=\"T_37efb\">\n",
       "  <thead>\n",
       "    <tr>\n",
       "      <th class=\"blank level0\" >&nbsp;</th>\n",
       "      <th id=\"T_37efb_level0_col0\" class=\"col_heading level0 col0\" >WACC</th>\n",
       "      <th id=\"T_37efb_level0_col1\" class=\"col_heading level0 col1\" >Terminal Growth Rate</th>\n",
       "      <th id=\"T_37efb_level0_col2\" class=\"col_heading level0 col2\" >Implied Enterprise Value</th>\n",
       "      <th id=\"T_37efb_level0_col3\" class=\"col_heading level0 col3\" >Implied Stock Price</th>\n",
       "    </tr>\n",
       "  </thead>\n",
       "  <tbody>\n",
       "    <tr>\n",
       "      <th id=\"T_37efb_level0_row0\" class=\"row_heading level0 row0\" >0.050000</th>\n",
       "      <td id=\"T_37efb_row0_col0\" class=\"data row0 col0\" >8.65%</td>\n",
       "      <td id=\"T_37efb_row0_col1\" class=\"data row0 col1\" >2.18%</td>\n",
       "      <td id=\"T_37efb_row0_col2\" class=\"data row0 col2\" >$230,638.86</td>\n",
       "      <td id=\"T_37efb_row0_col3\" class=\"data row0 col3\" >$96.76</td>\n",
       "    </tr>\n",
       "    <tr>\n",
       "      <th id=\"T_37efb_level0_row1\" class=\"row_heading level0 row1\" >0.100000</th>\n",
       "      <td id=\"T_37efb_row1_col0\" class=\"data row1 col0\" >9.10%</td>\n",
       "      <td id=\"T_37efb_row1_col1\" class=\"data row1 col1\" >2.35%</td>\n",
       "      <td id=\"T_37efb_row1_col2\" class=\"data row1 col2\" >$242,673.26</td>\n",
       "      <td id=\"T_37efb_row1_col3\" class=\"data row1 col3\" >$101.22</td>\n",
       "    </tr>\n",
       "    <tr>\n",
       "      <th id=\"T_37efb_level0_row2\" class=\"row_heading level0 row2\" >0.150000</th>\n",
       "      <td id=\"T_37efb_row2_col0\" class=\"data row2 col0\" >9.40%</td>\n",
       "      <td id=\"T_37efb_row2_col1\" class=\"data row2 col1\" >2.47%</td>\n",
       "      <td id=\"T_37efb_row2_col2\" class=\"data row2 col2\" >$252,884.63</td>\n",
       "      <td id=\"T_37efb_row2_col3\" class=\"data row2 col3\" >$105.00</td>\n",
       "    </tr>\n",
       "    <tr>\n",
       "      <th id=\"T_37efb_level0_row3\" class=\"row_heading level0 row3\" >0.200000</th>\n",
       "      <td id=\"T_37efb_row3_col0\" class=\"data row3 col0\" >9.65%</td>\n",
       "      <td id=\"T_37efb_row3_col1\" class=\"data row3 col1\" >2.57%</td>\n",
       "      <td id=\"T_37efb_row3_col2\" class=\"data row3 col2\" >$260,403.90</td>\n",
       "      <td id=\"T_37efb_row3_col3\" class=\"data row3 col3\" >$107.78</td>\n",
       "    </tr>\n",
       "    <tr>\n",
       "      <th id=\"T_37efb_level0_row4\" class=\"row_heading level0 row4\" >0.250000</th>\n",
       "      <td id=\"T_37efb_row4_col0\" class=\"data row4 col0\" >9.88%</td>\n",
       "      <td id=\"T_37efb_row4_col1\" class=\"data row4 col1\" >2.65%</td>\n",
       "      <td id=\"T_37efb_row4_col2\" class=\"data row4 col2\" >$266,942.78</td>\n",
       "      <td id=\"T_37efb_row4_col3\" class=\"data row4 col3\" >$110.20</td>\n",
       "    </tr>\n",
       "    <tr>\n",
       "      <th id=\"T_37efb_level0_row5\" class=\"row_heading level0 row5\" >0.300000</th>\n",
       "      <td id=\"T_37efb_row5_col0\" class=\"data row5 col0\" >10.07%</td>\n",
       "      <td id=\"T_37efb_row5_col1\" class=\"data row5 col1\" >2.73%</td>\n",
       "      <td id=\"T_37efb_row5_col2\" class=\"data row5 col2\" >$273,593.86</td>\n",
       "      <td id=\"T_37efb_row5_col3\" class=\"data row5 col3\" >$112.66</td>\n",
       "    </tr>\n",
       "    <tr>\n",
       "      <th id=\"T_37efb_level0_row6\" class=\"row_heading level0 row6\" >0.350000</th>\n",
       "      <td id=\"T_37efb_row6_col0\" class=\"data row6 col0\" >10.24%</td>\n",
       "      <td id=\"T_37efb_row6_col1\" class=\"data row6 col1\" >2.80%</td>\n",
       "      <td id=\"T_37efb_row6_col2\" class=\"data row6 col2\" >$280,187.35</td>\n",
       "      <td id=\"T_37efb_row6_col3\" class=\"data row6 col3\" >$115.10</td>\n",
       "    </tr>\n",
       "    <tr>\n",
       "      <th id=\"T_37efb_level0_row7\" class=\"row_heading level0 row7\" >0.400000</th>\n",
       "      <td id=\"T_37efb_row7_col0\" class=\"data row7 col0\" >10.41%</td>\n",
       "      <td id=\"T_37efb_row7_col1\" class=\"data row7 col1\" >2.87%</td>\n",
       "      <td id=\"T_37efb_row7_col2\" class=\"data row7 col2\" >$286,656.63</td>\n",
       "      <td id=\"T_37efb_row7_col3\" class=\"data row7 col3\" >$117.50</td>\n",
       "    </tr>\n",
       "    <tr>\n",
       "      <th id=\"T_37efb_level0_row8\" class=\"row_heading level0 row8\" >0.450000</th>\n",
       "      <td id=\"T_37efb_row8_col0\" class=\"data row8 col0\" >10.56%</td>\n",
       "      <td id=\"T_37efb_row8_col1\" class=\"data row8 col1\" >2.93%</td>\n",
       "      <td id=\"T_37efb_row8_col2\" class=\"data row8 col2\" >$293,018.11</td>\n",
       "      <td id=\"T_37efb_row8_col3\" class=\"data row8 col3\" >$119.85</td>\n",
       "    </tr>\n",
       "    <tr>\n",
       "      <th id=\"T_37efb_level0_row9\" class=\"row_heading level0 row9\" >0.500000</th>\n",
       "      <td id=\"T_37efb_row9_col0\" class=\"data row9 col0\" >10.71%</td>\n",
       "      <td id=\"T_37efb_row9_col1\" class=\"data row9 col1\" >2.99%</td>\n",
       "      <td id=\"T_37efb_row9_col2\" class=\"data row9 col2\" >$300,016.61</td>\n",
       "      <td id=\"T_37efb_row9_col3\" class=\"data row9 col3\" >$122.44</td>\n",
       "    </tr>\n",
       "    <tr>\n",
       "      <th id=\"T_37efb_level0_row10\" class=\"row_heading level0 row10\" >0.550000</th>\n",
       "      <td id=\"T_37efb_row10_col0\" class=\"data row10 col0\" >10.89%</td>\n",
       "      <td id=\"T_37efb_row10_col1\" class=\"data row10 col1\" >3.05%</td>\n",
       "      <td id=\"T_37efb_row10_col2\" class=\"data row10 col2\" >$306,897.71</td>\n",
       "      <td id=\"T_37efb_row10_col3\" class=\"data row10 col3\" >$124.99</td>\n",
       "    </tr>\n",
       "    <tr>\n",
       "      <th id=\"T_37efb_level0_row11\" class=\"row_heading level0 row11\" >0.600000</th>\n",
       "      <td id=\"T_37efb_row11_col0\" class=\"data row11 col0\" >11.05%</td>\n",
       "      <td id=\"T_37efb_row11_col1\" class=\"data row11 col1\" >3.12%</td>\n",
       "      <td id=\"T_37efb_row11_col2\" class=\"data row11 col2\" >$314,269.63</td>\n",
       "      <td id=\"T_37efb_row11_col3\" class=\"data row11 col3\" >$127.71</td>\n",
       "    </tr>\n",
       "    <tr>\n",
       "      <th id=\"T_37efb_level0_row12\" class=\"row_heading level0 row12\" >0.650000</th>\n",
       "      <td id=\"T_37efb_row12_col0\" class=\"data row12 col0\" >11.22%</td>\n",
       "      <td id=\"T_37efb_row12_col1\" class=\"data row12 col1\" >3.19%</td>\n",
       "      <td id=\"T_37efb_row12_col2\" class=\"data row12 col2\" >$321,696.48</td>\n",
       "      <td id=\"T_37efb_row12_col3\" class=\"data row12 col3\" >$130.46</td>\n",
       "    </tr>\n",
       "    <tr>\n",
       "      <th id=\"T_37efb_level0_row13\" class=\"row_heading level0 row13\" >0.700000</th>\n",
       "      <td id=\"T_37efb_row13_col0\" class=\"data row13 col0\" >11.40%</td>\n",
       "      <td id=\"T_37efb_row13_col1\" class=\"data row13 col1\" >3.26%</td>\n",
       "      <td id=\"T_37efb_row13_col2\" class=\"data row13 col2\" >$330,958.90</td>\n",
       "      <td id=\"T_37efb_row13_col3\" class=\"data row13 col3\" >$133.89</td>\n",
       "    </tr>\n",
       "    <tr>\n",
       "      <th id=\"T_37efb_level0_row14\" class=\"row_heading level0 row14\" >0.750000</th>\n",
       "      <td id=\"T_37efb_row14_col0\" class=\"data row14 col0\" >11.59%</td>\n",
       "      <td id=\"T_37efb_row14_col1\" class=\"data row14 col1\" >3.33%</td>\n",
       "      <td id=\"T_37efb_row14_col2\" class=\"data row14 col2\" >$341,350.32</td>\n",
       "      <td id=\"T_37efb_row14_col3\" class=\"data row14 col3\" >$137.74</td>\n",
       "    </tr>\n",
       "    <tr>\n",
       "      <th id=\"T_37efb_level0_row15\" class=\"row_heading level0 row15\" >0.800000</th>\n",
       "      <td id=\"T_37efb_row15_col0\" class=\"data row15 col0\" >11.79%</td>\n",
       "      <td id=\"T_37efb_row15_col1\" class=\"data row15 col1\" >3.41%</td>\n",
       "      <td id=\"T_37efb_row15_col2\" class=\"data row15 col2\" >$353,615.44</td>\n",
       "      <td id=\"T_37efb_row15_col3\" class=\"data row15 col3\" >$142.28</td>\n",
       "    </tr>\n",
       "    <tr>\n",
       "      <th id=\"T_37efb_level0_row16\" class=\"row_heading level0 row16\" >0.850000</th>\n",
       "      <td id=\"T_37efb_row16_col0\" class=\"data row16 col0\" >12.03%</td>\n",
       "      <td id=\"T_37efb_row16_col1\" class=\"data row16 col1\" >3.51%</td>\n",
       "      <td id=\"T_37efb_row16_col2\" class=\"data row16 col2\" >$369,093.15</td>\n",
       "      <td id=\"T_37efb_row16_col3\" class=\"data row16 col3\" >$148.00</td>\n",
       "    </tr>\n",
       "    <tr>\n",
       "      <th id=\"T_37efb_level0_row17\" class=\"row_heading level0 row17\" >0.900000</th>\n",
       "      <td id=\"T_37efb_row17_col0\" class=\"data row17 col0\" >12.35%</td>\n",
       "      <td id=\"T_37efb_row17_col1\" class=\"data row17 col1\" >3.63%</td>\n",
       "      <td id=\"T_37efb_row17_col2\" class=\"data row17 col2\" >$388,205.92</td>\n",
       "      <td id=\"T_37efb_row17_col3\" class=\"data row17 col3\" >$155.08</td>\n",
       "    </tr>\n",
       "    <tr>\n",
       "      <th id=\"T_37efb_level0_row18\" class=\"row_heading level0 row18\" >0.950000</th>\n",
       "      <td id=\"T_37efb_row18_col0\" class=\"data row18 col0\" >12.81%</td>\n",
       "      <td id=\"T_37efb_row18_col1\" class=\"data row18 col1\" >3.82%</td>\n",
       "      <td id=\"T_37efb_row18_col2\" class=\"data row18 col2\" >$424,631.52</td>\n",
       "      <td id=\"T_37efb_row18_col3\" class=\"data row18 col3\" >$168.56</td>\n",
       "    </tr>\n",
       "  </tbody>\n",
       "</table>\n"
      ],
      "text/plain": [
       "<pandas.io.formats.style.Styler at 0x20764cf77f0>"
      ]
     },
     "execution_count": 13,
     "metadata": {},
     "output_type": "execute_result"
    }
   ],
   "source": [
    "quantile = monte_carlo_df.quantile([i / 20 for i in range(1, 20)])\n",
    "styled_df(quantile)"
   ]
  },
  {
   "cell_type": "markdown",
   "id": "b952e15c-480c-4e80-a410-ebabc8aeb72c",
   "metadata": {},
   "source": [
    "## <a id='scatter'>Output vs Inputs  </a> "
   ]
  },
  {
   "cell_type": "markdown",
   "id": "6487545c-729e-4bdf-9c1d-c1dedc7a9ec6",
   "metadata": {},
   "source": [
    "Below we Visualize the correlation that each independent Variable (WACC and Terminal Growth Rate) has with the Dependent Variable (Implied Stock Price)"
   ]
  },
  {
   "cell_type": "code",
   "execution_count": 14,
   "id": "9079656b-6b4b-45cc-9bac-edb2a68594c0",
   "metadata": {},
   "outputs": [
    {
     "data": {
      "image/png": "[encoded data removed]",
      "text/plain": [
       "<Figure size 432x288 with 1 Axes>"
      ]
     },
     "metadata": {},
     "output_type": "display_data"
    },
    {
     "data": {
      "image/png": "[encoded data removed]",
      "text/plain": [
       "<Figure size 432x288 with 1 Axes>"
      ]
     },
     "metadata": {},
     "output_type": "display_data"
    }
   ],
   "source": [
    "independent_columns = [\"WACC\",\"Terminal Growth Rate\"]\n",
    "for i in independent_columns:\n",
    "    monte_carlo_df.plot(kind=\"scatter\",y=\"Implied Stock Price\",x=i)"
   ]
  },
  {
   "cell_type": "markdown",
   "id": "c3b04d87-4127-4031-9e61-95f833d6cc91",
   "metadata": {},
   "source": [
    "## <a id='regression'>Regression</a>"
   ]
  },
  {
   "cell_type": "markdown",
   "id": "ed06056d-9ea5-4614-bb38-8e6475f1f019",
   "metadata": {},
   "source": [
    "Seeking to quantify how changes in the independent variables impact the dependent variable we run a Regression below."
   ]
  },
  {
   "cell_type": "code",
   "execution_count": 15,
   "id": "c53a4c8a-ec5d-4304-a6b2-4234c1fd4da3",
   "metadata": {},
   "outputs": [
    {
     "data": {
      "text/html": [
       "<table class=\"simpletable\">\n",
       "<caption>OLS Regression Results</caption>\n",
       "<tr>\n",
       "  <th>Dep. Variable:</th>    <td>Implied Stock Price</td> <th>  R-squared:         </th> <td>   0.926</td> \n",
       "</tr>\n",
       "<tr>\n",
       "  <th>Model:</th>                    <td>OLS</td>         <th>  Adj. R-squared:    </th> <td>   0.926</td> \n",
       "</tr>\n",
       "<tr>\n",
       "  <th>Method:</th>              <td>Least Squares</td>    <th>  F-statistic:       </th> <td>6.231e+04</td>\n",
       "</tr>\n",
       "<tr>\n",
       "  <th>Date:</th>              <td>Mon, 23 Oct 2023</td>   <th>  Prob (F-statistic):</th>  <td>  0.00</td>  \n",
       "</tr>\n",
       "<tr>\n",
       "  <th>Time:</th>                  <td>22:51:35</td>       <th>  Log-Likelihood:    </th> <td> -32473.</td> \n",
       "</tr>\n",
       "<tr>\n",
       "  <th>No. Observations:</th>       <td> 10000</td>        <th>  AIC:               </th> <td>6.495e+04</td>\n",
       "</tr>\n",
       "<tr>\n",
       "  <th>Df Residuals:</th>           <td>  9997</td>        <th>  BIC:               </th> <td>6.497e+04</td>\n",
       "</tr>\n",
       "<tr>\n",
       "  <th>Df Model:</th>               <td>     2</td>        <th>                     </th>     <td> </td>    \n",
       "</tr>\n",
       "<tr>\n",
       "  <th>Covariance Type:</th>       <td>nonrobust</td>      <th>                     </th>     <td> </td>    \n",
       "</tr>\n",
       "</table>\n",
       "<table class=\"simpletable\">\n",
       "<tr>\n",
       "            <td></td>              <th>coef</th>     <th>std err</th>      <th>t</th>      <th>P>|t|</th>  <th>[0.025</th>    <th>0.975]</th>  \n",
       "</tr>\n",
       "<tr>\n",
       "  <th>const</th>                <td>  266.4509</td> <td>    0.647</td> <td>  411.561</td> <td> 0.000</td> <td>  265.182</td> <td>  267.720</td>\n",
       "</tr>\n",
       "<tr>\n",
       "  <th>WACC</th>                 <td>-1666.1695</td> <td>    4.932</td> <td> -337.811</td> <td> 0.000</td> <td>-1675.838</td> <td>-1656.501</td>\n",
       "</tr>\n",
       "<tr>\n",
       "  <th>Terminal Growth Rate</th> <td> 1285.8783</td> <td>   12.363</td> <td>  104.013</td> <td> 0.000</td> <td> 1261.645</td> <td> 1310.112</td>\n",
       "</tr>\n",
       "</table>\n",
       "<table class=\"simpletable\">\n",
       "<tr>\n",
       "  <th>Omnibus:</th>       <td>9926.219</td> <th>  Durbin-Watson:     </th>  <td>   2.013</td>  \n",
       "</tr>\n",
       "<tr>\n",
       "  <th>Prob(Omnibus):</th>  <td> 0.000</td>  <th>  Jarque-Bera (JB):  </th> <td>1000214.751</td>\n",
       "</tr>\n",
       "<tr>\n",
       "  <th>Skew:</th>           <td> 4.648</td>  <th>  Prob(JB):          </th>  <td>    0.00</td>  \n",
       "</tr>\n",
       "<tr>\n",
       "  <th>Kurtosis:</th>       <td>51.105</td>  <th>  Cond. No.          </th>  <td>    200.</td>  \n",
       "</tr>\n",
       "</table><br/><br/>Notes:<br/>[1] Standard Errors assume that the covariance matrix of the errors is correctly specified."
      ],
      "text/plain": [
       "<class 'statsmodels.iolib.summary.Summary'>\n",
       "\"\"\"\n",
       "                             OLS Regression Results                            \n",
       "===============================================================================\n",
       "Dep. Variable:     Implied Stock Price   R-squared:                       0.926\n",
       "Model:                             OLS   Adj. R-squared:                  0.926\n",
       "Method:                  Least Squares   F-statistic:                 6.231e+04\n",
       "Date:                 Mon, 23 Oct 2023   Prob (F-statistic):               0.00\n",
       "Time:                         22:51:35   Log-Likelihood:                -32473.\n",
       "No. Observations:                10000   AIC:                         6.495e+04\n",
       "Df Residuals:                     9997   BIC:                         6.497e+04\n",
       "Df Model:                            2                                         \n",
       "Covariance Type:             nonrobust                                         \n",
       "========================================================================================\n",
       "                           coef    std err          t      P>|t|      [0.025      0.975]\n",
       "----------------------------------------------------------------------------------------\n",
       "const                  266.4509      0.647    411.561      0.000     265.182     267.720\n",
       "WACC                 -1666.1695      4.932   -337.811      0.000   -1675.838   -1656.501\n",
       "Terminal Growth Rate  1285.8783     12.363    104.013      0.000    1261.645    1310.112\n",
       "==============================================================================\n",
       "Omnibus:                     9926.219   Durbin-Watson:                   2.013\n",
       "Prob(Omnibus):                  0.000   Jarque-Bera (JB):          1000214.751\n",
       "Skew:                           4.648   Prob(JB):                         0.00\n",
       "Kurtosis:                      51.105   Cond. No.                         200.\n",
       "==============================================================================\n",
       "\n",
       "Notes:\n",
       "[1] Standard Errors assume that the covariance matrix of the errors is correctly specified.\n",
       "\"\"\""
      ]
     },
     "execution_count": 15,
     "metadata": {},
     "output_type": "execute_result"
    }
   ],
   "source": [
    "output_col = 'Implied Stock Price'\n",
    "input_cols = [\"WACC\",\"Terminal Growth Rate\"]\n",
    "\n",
    "X = sm.add_constant(monte_carlo_df[input_cols])\n",
    "y = monte_carlo_df[output_col]\n",
    "\n",
    "mod = sm.OLS(y, X)\n",
    "result = mod.fit()\n",
    "result.summary()"
   ]
  },
  {
   "cell_type": "markdown",
   "id": "bd00bad9-c8e4-4911-90dc-4d6634f41272",
   "metadata": {},
   "source": [
    "Below we Standarize the Coefficients to better compare and understand the effcts of the independent variables on the dependent one"
   ]
  },
  {
   "cell_type": "code",
   "execution_count": 16,
   "id": "c6b71c7b-7599-4188-b801-829a20c372d0",
   "metadata": {},
   "outputs": [
    {
     "data": {
      "text/plain": [
       "Implied Enterprise Value          NaN\n",
       "Implied Stock Price               NaN\n",
       "Terminal Growth Rate         6.474628\n",
       "WACC                       -21.028080\n",
       "const                             NaN\n",
       "dtype: float64"
      ]
     },
     "execution_count": 16,
     "metadata": {},
     "output_type": "execute_result"
    }
   ],
   "source": [
    "result.params * monte_carlo_df.std()"
   ]
  },
  {
   "cell_type": "markdown",
   "id": "e0851ba6-4f3c-40f2-a9ac-f05d3fc6d03f",
   "metadata": {},
   "source": [
    "From the above Table we can see that the WACC carries the most impact when evvaluating the Implied Stock Price. A 1 Standard deviation increase in WACC will lower the implied Stock Price by $21"
   ]
  },
  {
   "cell_type": "code",
   "execution_count": null,
   "id": "df79f21b-00a9-4434-b097-80198363b536",
   "metadata": {},
   "outputs": [],
   "source": []
  }
 ],
 "metadata": {
  "kernelspec": {
   "display_name": "Python 3 (ipykernel)",
   "language": "python",
   "name": "python3"
  },
  "language_info": {
   "codemirror_mode": {
    "name": "ipython",
    "version": 3
   },
   "file_extension": ".py",
   "mimetype": "text/x-python",
   "name": "python",
   "nbconvert_exporter": "python",
   "pygments_lexer": "ipython3",
   "version": "3.9.12"
  }
 },
 "nbformat": 4,
 "nbformat_minor": 5
}
