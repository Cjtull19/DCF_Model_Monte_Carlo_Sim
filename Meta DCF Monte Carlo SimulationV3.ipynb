{
 "cells": [
  {
   "cell_type": "markdown",
   "id": "4a42750e-b036-4291-8a8a-8eb34528f97d",
   "metadata": {},
   "source": [
    "# META Monte Carlo Simulation"
   ]
  },
  {
   "cell_type": "markdown",
   "id": "28d17ea5-8868-4f19-924b-762009dabd48",
   "metadata": {},
   "source": [
    "### Table of Contents\n",
    "\n",
    "- [**Parameter Extraction From Excel & Standard Deviation Assumptions**](#params)\n",
    "    - [Function : Random Normal Variable for WACC and Terminal Growth Rate](#function1)\n",
    "    - [Function : Calculate Implied Stock Price and Enterprise Value](#function2)\n",
    "- [**Monte Carlo Simulation**](#Monte)\n",
    "- [**Visualizations**](#Visualizations)\n",
    "    - [Histograms of Implied Enterpirse Value and Implied Stock Price](#histogram)\n",
    "     - [Quantiles ](#quantiles)"
   ]
  },
  {
   "cell_type": "markdown",
   "id": "bb63b8d9-3ede-41f2-8598-e684f0d63f7b",
   "metadata": {},
   "source": [
    "## Imports"
   ]
  },
  {
   "cell_type": "code",
   "execution_count": 2,
   "id": "271c1633-4cb3-4711-98f7-207a752ae732",
   "metadata": {
    "collapsed": true,
    "jupyter": {
     "outputs_hidden": true
    },
    "tags": []
   },
   "outputs": [
    {
     "ename": "ValueError",
     "evalue": "numpy.dtype size changed, may indicate binary incompatibility. Expected 96 from C header, got 88 from PyObject",
     "output_type": "error",
     "traceback": [
      "\u001b[1;31m---------------------------------------------------------------------------\u001b[0m",
      "\u001b[1;31mValueError\u001b[0m                                Traceback (most recent call last)",
      "Input \u001b[1;32mIn [2]\u001b[0m, in \u001b[0;36m<cell line: 1>\u001b[1;34m()\u001b[0m\n\u001b[1;32m----> 1\u001b[0m \u001b[38;5;28;01mimport\u001b[39;00m \u001b[38;5;21;01mxlwings\u001b[39;00m \u001b[38;5;28;01mas\u001b[39;00m \u001b[38;5;21;01mxw\u001b[39;00m\n\u001b[0;32m      2\u001b[0m \u001b[38;5;28;01mimport\u001b[39;00m \u001b[38;5;21;01mpandas\u001b[39;00m \u001b[38;5;28;01mas\u001b[39;00m \u001b[38;5;21;01mpd\u001b[39;00m\n\u001b[0;32m      3\u001b[0m \u001b[38;5;28;01mimport\u001b[39;00m \u001b[38;5;21;01mrandom\u001b[39;00m \u001b[38;5;28;01mas\u001b[39;00m \u001b[38;5;21;01mrand\u001b[39;00m\n",
      "File \u001b[1;32m~\\anaconda3\\lib\\site-packages\\xlwings\\__init__.py:9\u001b[0m, in \u001b[0;36m<module>\u001b[1;34m\u001b[0m\n\u001b[0;32m      7\u001b[0m \u001b[38;5;66;03m# Platform specifics\u001b[39;00m\n\u001b[0;32m      8\u001b[0m \u001b[38;5;28;01mif\u001b[39;00m sys\u001b[38;5;241m.\u001b[39mplatform\u001b[38;5;241m.\u001b[39mstartswith(\u001b[38;5;124m'\u001b[39m\u001b[38;5;124mwin\u001b[39m\u001b[38;5;124m'\u001b[39m):\n\u001b[1;32m----> 9\u001b[0m     \u001b[38;5;28;01mfrom\u001b[39;00m \u001b[38;5;21;01m.\u001b[39;00m \u001b[38;5;28;01mimport\u001b[39;00m _xlwindows \u001b[38;5;28;01mas\u001b[39;00m xlplatform\n\u001b[0;32m     10\u001b[0m \u001b[38;5;28;01melse\u001b[39;00m:\n\u001b[0;32m     11\u001b[0m     \u001b[38;5;28;01mfrom\u001b[39;00m \u001b[38;5;21;01m.\u001b[39;00m \u001b[38;5;28;01mimport\u001b[39;00m _xlmac \u001b[38;5;28;01mas\u001b[39;00m xlplatform\n",
      "File \u001b[1;32m~\\anaconda3\\lib\\site-packages\\xlwings\\_xlwindows.py:37\u001b[0m, in \u001b[0;36m<module>\u001b[1;34m\u001b[0m\n\u001b[0;32m     35\u001b[0m \u001b[38;5;66;03m# Optional imports\u001b[39;00m\n\u001b[0;32m     36\u001b[0m \u001b[38;5;28;01mtry\u001b[39;00m:\n\u001b[1;32m---> 37\u001b[0m     \u001b[38;5;28;01mimport\u001b[39;00m \u001b[38;5;21;01mpandas\u001b[39;00m \u001b[38;5;28;01mas\u001b[39;00m \u001b[38;5;21;01mpd\u001b[39;00m\n\u001b[0;32m     38\u001b[0m \u001b[38;5;28;01mexcept\u001b[39;00m \u001b[38;5;167;01mImportError\u001b[39;00m:\n\u001b[0;32m     39\u001b[0m     pd \u001b[38;5;241m=\u001b[39m \u001b[38;5;28;01mNone\u001b[39;00m\n",
      "File \u001b[1;32m~\\anaconda3\\lib\\site-packages\\pandas\\__init__.py:22\u001b[0m, in \u001b[0;36m<module>\u001b[1;34m\u001b[0m\n\u001b[0;32m     19\u001b[0m \u001b[38;5;28;01mdel\u001b[39;00m hard_dependencies, dependency, missing_dependencies\n\u001b[0;32m     21\u001b[0m \u001b[38;5;66;03m# numpy compat\u001b[39;00m\n\u001b[1;32m---> 22\u001b[0m \u001b[38;5;28;01mfrom\u001b[39;00m \u001b[38;5;21;01mpandas\u001b[39;00m\u001b[38;5;21;01m.\u001b[39;00m\u001b[38;5;21;01mcompat\u001b[39;00m \u001b[38;5;28;01mimport\u001b[39;00m (\n\u001b[0;32m     23\u001b[0m     np_version_under1p18 \u001b[38;5;28;01mas\u001b[39;00m _np_version_under1p18,\n\u001b[0;32m     24\u001b[0m     is_numpy_dev \u001b[38;5;28;01mas\u001b[39;00m _is_numpy_dev,\n\u001b[0;32m     25\u001b[0m )\n\u001b[0;32m     27\u001b[0m \u001b[38;5;28;01mtry\u001b[39;00m:\n\u001b[0;32m     28\u001b[0m     \u001b[38;5;28;01mfrom\u001b[39;00m \u001b[38;5;21;01mpandas\u001b[39;00m\u001b[38;5;21;01m.\u001b[39;00m\u001b[38;5;21;01m_libs\u001b[39;00m \u001b[38;5;28;01mimport\u001b[39;00m hashtable \u001b[38;5;28;01mas\u001b[39;00m _hashtable, lib \u001b[38;5;28;01mas\u001b[39;00m _lib, tslib \u001b[38;5;28;01mas\u001b[39;00m _tslib\n",
      "File \u001b[1;32m~\\anaconda3\\lib\\site-packages\\pandas\\compat\\__init__.py:15\u001b[0m, in \u001b[0;36m<module>\u001b[1;34m\u001b[0m\n\u001b[0;32m     12\u001b[0m \u001b[38;5;28;01mimport\u001b[39;00m \u001b[38;5;21;01mwarnings\u001b[39;00m\n\u001b[0;32m     14\u001b[0m \u001b[38;5;28;01mfrom\u001b[39;00m \u001b[38;5;21;01mpandas\u001b[39;00m\u001b[38;5;21;01m.\u001b[39;00m\u001b[38;5;21;01m_typing\u001b[39;00m \u001b[38;5;28;01mimport\u001b[39;00m F\n\u001b[1;32m---> 15\u001b[0m \u001b[38;5;28;01mfrom\u001b[39;00m \u001b[38;5;21;01mpandas\u001b[39;00m\u001b[38;5;21;01m.\u001b[39;00m\u001b[38;5;21;01mcompat\u001b[39;00m\u001b[38;5;21;01m.\u001b[39;00m\u001b[38;5;21;01mnumpy\u001b[39;00m \u001b[38;5;28;01mimport\u001b[39;00m (\n\u001b[0;32m     16\u001b[0m     is_numpy_dev,\n\u001b[0;32m     17\u001b[0m     np_array_datetime64_compat,\n\u001b[0;32m     18\u001b[0m     np_datetime64_compat,\n\u001b[0;32m     19\u001b[0m     np_version_under1p18,\n\u001b[0;32m     20\u001b[0m     np_version_under1p19,\n\u001b[0;32m     21\u001b[0m     np_version_under1p20,\n\u001b[0;32m     22\u001b[0m )\n\u001b[0;32m     23\u001b[0m \u001b[38;5;28;01mfrom\u001b[39;00m \u001b[38;5;21;01mpandas\u001b[39;00m\u001b[38;5;21;01m.\u001b[39;00m\u001b[38;5;21;01mcompat\u001b[39;00m\u001b[38;5;21;01m.\u001b[39;00m\u001b[38;5;21;01mpyarrow\u001b[39;00m \u001b[38;5;28;01mimport\u001b[39;00m (\n\u001b[0;32m     24\u001b[0m     pa_version_under1p0,\n\u001b[0;32m     25\u001b[0m     pa_version_under2p0,\n\u001b[0;32m     26\u001b[0m     pa_version_under3p0,\n\u001b[0;32m     27\u001b[0m     pa_version_under4p0,\n\u001b[0;32m     28\u001b[0m )\n\u001b[0;32m     30\u001b[0m PY38 \u001b[38;5;241m=\u001b[39m sys\u001b[38;5;241m.\u001b[39mversion_info \u001b[38;5;241m>\u001b[39m\u001b[38;5;241m=\u001b[39m (\u001b[38;5;241m3\u001b[39m, \u001b[38;5;241m8\u001b[39m)\n",
      "File \u001b[1;32m~\\anaconda3\\lib\\site-packages\\pandas\\compat\\numpy\\__init__.py:7\u001b[0m, in \u001b[0;36m<module>\u001b[1;34m\u001b[0m\n\u001b[0;32m      3\u001b[0m \u001b[38;5;28;01mimport\u001b[39;00m \u001b[38;5;21;01mre\u001b[39;00m\n\u001b[0;32m      5\u001b[0m \u001b[38;5;28;01mimport\u001b[39;00m \u001b[38;5;21;01mnumpy\u001b[39;00m \u001b[38;5;28;01mas\u001b[39;00m \u001b[38;5;21;01mnp\u001b[39;00m\n\u001b[1;32m----> 7\u001b[0m \u001b[38;5;28;01mfrom\u001b[39;00m \u001b[38;5;21;01mpandas\u001b[39;00m\u001b[38;5;21;01m.\u001b[39;00m\u001b[38;5;21;01mutil\u001b[39;00m\u001b[38;5;21;01m.\u001b[39;00m\u001b[38;5;21;01mversion\u001b[39;00m \u001b[38;5;28;01mimport\u001b[39;00m Version\n\u001b[0;32m      9\u001b[0m \u001b[38;5;66;03m# numpy versioning\u001b[39;00m\n\u001b[0;32m     10\u001b[0m _np_version \u001b[38;5;241m=\u001b[39m np\u001b[38;5;241m.\u001b[39m__version__\n",
      "File \u001b[1;32m~\\anaconda3\\lib\\site-packages\\pandas\\util\\__init__.py:1\u001b[0m, in \u001b[0;36m<module>\u001b[1;34m\u001b[0m\n\u001b[1;32m----> 1\u001b[0m \u001b[38;5;28;01mfrom\u001b[39;00m \u001b[38;5;21;01mpandas\u001b[39;00m\u001b[38;5;21;01m.\u001b[39;00m\u001b[38;5;21;01mutil\u001b[39;00m\u001b[38;5;21;01m.\u001b[39;00m\u001b[38;5;21;01m_decorators\u001b[39;00m \u001b[38;5;28;01mimport\u001b[39;00m (  \u001b[38;5;66;03m# noqa\u001b[39;00m\n\u001b[0;32m      2\u001b[0m     Appender,\n\u001b[0;32m      3\u001b[0m     Substitution,\n\u001b[0;32m      4\u001b[0m     cache_readonly,\n\u001b[0;32m      5\u001b[0m )\n\u001b[0;32m      7\u001b[0m \u001b[38;5;28;01mfrom\u001b[39;00m \u001b[38;5;21;01mpandas\u001b[39;00m\u001b[38;5;21;01m.\u001b[39;00m\u001b[38;5;21;01mcore\u001b[39;00m\u001b[38;5;21;01m.\u001b[39;00m\u001b[38;5;21;01mutil\u001b[39;00m\u001b[38;5;21;01m.\u001b[39;00m\u001b[38;5;21;01mhashing\u001b[39;00m \u001b[38;5;28;01mimport\u001b[39;00m (  \u001b[38;5;66;03m# noqa\u001b[39;00m\n\u001b[0;32m      8\u001b[0m     hash_array,\n\u001b[0;32m      9\u001b[0m     hash_pandas_object,\n\u001b[0;32m     10\u001b[0m )\n\u001b[0;32m     13\u001b[0m \u001b[38;5;28;01mdef\u001b[39;00m \u001b[38;5;21m__getattr__\u001b[39m(name):\n",
      "File \u001b[1;32m~\\anaconda3\\lib\\site-packages\\pandas\\util\\_decorators.py:14\u001b[0m, in \u001b[0;36m<module>\u001b[1;34m\u001b[0m\n\u001b[0;32m      6\u001b[0m \u001b[38;5;28;01mfrom\u001b[39;00m \u001b[38;5;21;01mtyping\u001b[39;00m \u001b[38;5;28;01mimport\u001b[39;00m (\n\u001b[0;32m      7\u001b[0m     Any,\n\u001b[0;32m      8\u001b[0m     Callable,\n\u001b[0;32m      9\u001b[0m     Mapping,\n\u001b[0;32m     10\u001b[0m     cast,\n\u001b[0;32m     11\u001b[0m )\n\u001b[0;32m     12\u001b[0m \u001b[38;5;28;01mimport\u001b[39;00m \u001b[38;5;21;01mwarnings\u001b[39;00m\n\u001b[1;32m---> 14\u001b[0m \u001b[38;5;28;01mfrom\u001b[39;00m \u001b[38;5;21;01mpandas\u001b[39;00m\u001b[38;5;21;01m.\u001b[39;00m\u001b[38;5;21;01m_libs\u001b[39;00m\u001b[38;5;21;01m.\u001b[39;00m\u001b[38;5;21;01mproperties\u001b[39;00m \u001b[38;5;28;01mimport\u001b[39;00m cache_readonly  \u001b[38;5;66;03m# noqa\u001b[39;00m\n\u001b[0;32m     15\u001b[0m \u001b[38;5;28;01mfrom\u001b[39;00m \u001b[38;5;21;01mpandas\u001b[39;00m\u001b[38;5;21;01m.\u001b[39;00m\u001b[38;5;21;01m_typing\u001b[39;00m \u001b[38;5;28;01mimport\u001b[39;00m F\n\u001b[0;32m     18\u001b[0m \u001b[38;5;28;01mdef\u001b[39;00m \u001b[38;5;21mdeprecate\u001b[39m(\n\u001b[0;32m     19\u001b[0m     name: \u001b[38;5;28mstr\u001b[39m,\n\u001b[0;32m     20\u001b[0m     alternative: Callable[\u001b[38;5;241m.\u001b[39m\u001b[38;5;241m.\u001b[39m\u001b[38;5;241m.\u001b[39m, Any],\n\u001b[1;32m   (...)\u001b[0m\n\u001b[0;32m     25\u001b[0m     msg: \u001b[38;5;28mstr\u001b[39m \u001b[38;5;241m|\u001b[39m \u001b[38;5;28;01mNone\u001b[39;00m \u001b[38;5;241m=\u001b[39m \u001b[38;5;28;01mNone\u001b[39;00m,\n\u001b[0;32m     26\u001b[0m ) \u001b[38;5;241m-\u001b[39m\u001b[38;5;241m>\u001b[39m Callable[[F], F]:\n",
      "File \u001b[1;32m~\\anaconda3\\lib\\site-packages\\pandas\\_libs\\__init__.py:13\u001b[0m, in \u001b[0;36m<module>\u001b[1;34m\u001b[0m\n\u001b[0;32m      1\u001b[0m __all__ \u001b[38;5;241m=\u001b[39m [\n\u001b[0;32m      2\u001b[0m     \u001b[38;5;124m\"\u001b[39m\u001b[38;5;124mNaT\u001b[39m\u001b[38;5;124m\"\u001b[39m,\n\u001b[0;32m      3\u001b[0m     \u001b[38;5;124m\"\u001b[39m\u001b[38;5;124mNaTType\u001b[39m\u001b[38;5;124m\"\u001b[39m,\n\u001b[1;32m   (...)\u001b[0m\n\u001b[0;32m      9\u001b[0m     \u001b[38;5;124m\"\u001b[39m\u001b[38;5;124mInterval\u001b[39m\u001b[38;5;124m\"\u001b[39m,\n\u001b[0;32m     10\u001b[0m ]\n\u001b[1;32m---> 13\u001b[0m \u001b[38;5;28;01mfrom\u001b[39;00m \u001b[38;5;21;01mpandas\u001b[39;00m\u001b[38;5;21;01m.\u001b[39;00m\u001b[38;5;21;01m_libs\u001b[39;00m\u001b[38;5;21;01m.\u001b[39;00m\u001b[38;5;21;01minterval\u001b[39;00m \u001b[38;5;28;01mimport\u001b[39;00m Interval\n\u001b[0;32m     14\u001b[0m \u001b[38;5;28;01mfrom\u001b[39;00m \u001b[38;5;21;01mpandas\u001b[39;00m\u001b[38;5;21;01m.\u001b[39;00m\u001b[38;5;21;01m_libs\u001b[39;00m\u001b[38;5;21;01m.\u001b[39;00m\u001b[38;5;21;01mtslibs\u001b[39;00m \u001b[38;5;28;01mimport\u001b[39;00m (\n\u001b[0;32m     15\u001b[0m     NaT,\n\u001b[0;32m     16\u001b[0m     NaTType,\n\u001b[1;32m   (...)\u001b[0m\n\u001b[0;32m     21\u001b[0m     iNaT,\n\u001b[0;32m     22\u001b[0m )\n",
      "File \u001b[1;32m~\\anaconda3\\lib\\site-packages\\pandas\\_libs\\interval.pyx:1\u001b[0m, in \u001b[0;36minit pandas._libs.interval\u001b[1;34m()\u001b[0m\n",
      "\u001b[1;31mValueError\u001b[0m: numpy.dtype size changed, may indicate binary incompatibility. Expected 96 from C header, got 88 from PyObject"
     ]
    }
   ],
   "source": [
    "import xlwings as xw\n",
    "import pandas as pd\n",
    "import random as rand\n",
    "import numpy_financial as npf\n",
    "from dataclasses import dataclass\n",
    "import matplotlib.pyplot as plt\n",
    "import seaborn as sns\n",
    "plt.style.use(\"seaborn-dark\")"
   ]
  },
  {
   "cell_type": "markdown",
   "id": "6f5d87c3-6688-4f92-a1a1-007c881995c0",
   "metadata": {},
   "source": [
    "# <a id='params'>Parameter Extraction From Excel & Standard Deviation Assumptions</a>"
   ]
  },
  {
   "cell_type": "markdown",
   "id": "d99aa98d-af79-4841-9c2c-7084da0badf2",
   "metadata": {},
   "source": [
    "Below we connect to the DCF Model in Excel. From this Model we will extract all the relevant information necessary to run the monte Carlo Simulation."
   ]
  },
  {
   "cell_type": "code",
   "execution_count": 2,
   "id": "0f78e4f3-b603-4bb2-a23b-09bcea5e5d5f",
   "metadata": {},
   "outputs": [],
   "source": [
    "operating_model = xw.Book(\"Meta Operating Model V.1.xlsx\")\n",
    "dcf_sheet = operating_model.sheets['DCF']"
   ]
  },
  {
   "cell_type": "markdown",
   "id": "7ad13657-8bb5-4a4e-9763-97768c259e5a",
   "metadata": {},
   "source": [
    "Below we create a data class which will extract all relevant values needed for calculating the Implied Stock Price From the DCF Model. We Also define assumptions for the WACC and Terminal Growth Rate. These two rates will be normally distributed for n iterations to analyze their effect on the Implied Stock price."
   ]
  },
  {
   "cell_type": "code",
   "execution_count": 3,
   "id": "0a6aac70-ab76-4ccc-beb0-bc70eb1080ef",
   "metadata": {},
   "outputs": [],
   "source": [
    "@dataclass\n",
    "class Model:\n",
    "    wacc_expected_value :float = dcf_sheet.range('E16').value\n",
    "    terminal_growth_rate_expected_value :float = dcf_sheet.range('E17').value\n",
    "    free_cash_flows_to_firm  = dcf_sheet.range('D33:H33').value\n",
    "    cash_cash_equivalents :float = dcf_sheet.range('H49').value\n",
    "    marketable_sec :float = dcf_sheet.range('H50').value\n",
    "    long_term_debt :float = dcf_sheet.range('H51').value\n",
    "    shares_out_standing :float = dcf_sheet.range('H53').value\n",
    "    wacc_stdev :float = 0.0125\n",
    "    terminal_growth_rate_stdev :float = 0.005"
   ]
  },
  {
   "cell_type": "markdown",
   "id": "6e186717-5fdb-4f2c-a5f1-4e4d2c7748ce",
   "metadata": {},
   "source": [
    "Below we create an instance of the Model class which will be used mainly as a function parameter nad easy way access properties from the data class"
   ]
  },
  {
   "cell_type": "code",
   "execution_count": 4,
   "id": "6c8f2fcd-39b2-4795-8029-fd80a002d80d",
   "metadata": {},
   "outputs": [],
   "source": [
    "data = Model()"
   ]
  },
  {
   "cell_type": "markdown",
   "id": "2a9118b8-ca34-4779-89c2-48a0be90cdbd",
   "metadata": {},
   "source": [
    "### <a id='function1'>Function for Normal Random Variables : Terminal Growth Rate and WACC</a>"
   ]
  },
  {
   "cell_type": "code",
   "execution_count": 5,
   "id": "96f6c116-3c53-4c2a-94d5-52a5d77acf11",
   "metadata": {},
   "outputs": [],
   "source": [
    "def rand_wacc(data) :\n",
    "    return rand.normalvariate(data.wacc_expected_value,data.wacc_stdev)\n",
    "\n",
    "def rand_tgr (data) :\n",
    "    return rand.normalvariate(data.terminal_growth_rate_expected_value,data.terminal_growth_rate_stdev)"
   ]
  },
  {
   "cell_type": "markdown",
   "id": "314dbb84-8895-4fa4-8e4e-320a505cd8c6",
   "metadata": {},
   "source": [
    "### <a id='function2'>Function(s) for Calculating Implied Enterprise Value and Stock Price With Model Data</a>"
   ]
  },
  {
   "cell_type": "markdown",
   "id": "03c29705-5fe7-4770-a281-a63a874421b7",
   "metadata": {},
   "source": [
    "Below are the functions which will be utilized to run the simulations. The Functions below are built to reflect the current Excel Model Out put to confirm that it is functioning as intended. Later These functions will be modified to expect random values for the WACC and Terminal Growth Rate."
   ]
  },
  {
   "cell_type": "code",
   "execution_count": 6,
   "id": "eb8920a3-d078-46dc-8a4e-35d94ebd44ac",
   "metadata": {},
   "outputs": [
    {
     "data": {
      "text/plain": [
       "300495.86207288445"
      ]
     },
     "execution_count": 6,
     "metadata": {},
     "output_type": "execute_result"
    }
   ],
   "source": [
    "def implied_enterprise_value (data):\n",
    "    g_rate = data.terminal_growth_rate_expected_value\n",
    "    wacc = data.wacc_expected_value\n",
    "    new_fcff_list = [x for x in data.free_cash_flows_to_firm]\n",
    "    terminal_value = (new_fcff_list[-1]*(1+g_rate)/(wacc - g_rate))\n",
    "    new_fcff_list[-1] = new_fcff_list[-1]+ terminal_value\n",
    "    enterprise_value = npf.npv(wacc,[0] + new_fcff_list)\n",
    "    return enterprise_value\n",
    "implied_enterprise_value(data)"
   ]
  },
  {
   "cell_type": "code",
   "execution_count": 7,
   "id": "57d76e09-fdc5-4540-ac82-1c414ed2dd87",
   "metadata": {},
   "outputs": [
    {
     "data": {
      "text/plain": [
       "122.61689936080106"
      ]
     },
     "execution_count": 7,
     "metadata": {},
     "output_type": "execute_result"
    }
   ],
   "source": [
    "def implied_stock_price (data):\n",
    "    enterpise_val = implied_enterprise_value (data)\n",
    "    cash_equiv = data.cash_cash_equivalents\n",
    "    mark_sec = data.marketable_sec\n",
    "    debt = data.long_term_debt\n",
    "    shares= data.shares_out_standing\n",
    "    stock_price = (enterpise_val + cash_equiv+mark_sec+debt)/shares\n",
    "    return stock_price\n",
    "implied_stock_price (data)"
   ]
  },
  {
   "cell_type": "markdown",
   "id": "022fbd4c-57e6-4477-a5f8-65a2b70d1bdd",
   "metadata": {
    "tags": []
   },
   "source": [
    "# <a id='Monte'>Monte Carlo Simulation</a>"
   ]
  },
  {
   "cell_type": "code",
   "execution_count": 8,
   "id": "072feb52-96ec-4372-a883-2264215b3c56",
   "metadata": {},
   "outputs": [],
   "source": [
    "n_iterations = 10000"
   ]
  },
  {
   "cell_type": "code",
   "execution_count": 9,
   "id": "180075d2-ce0a-4737-91dd-8b907ffd771f",
   "metadata": {},
   "outputs": [
    {
     "data": {
      "text/html": [
       "<div>\n",
       "<style scoped>\n",
       "    .dataframe tbody tr th:only-of-type {\n",
       "        vertical-align: middle;\n",
       "    }\n",
       "\n",
       "    .dataframe tbody tr th {\n",
       "        vertical-align: top;\n",
       "    }\n",
       "\n",
       "    .dataframe thead th {\n",
       "        text-align: right;\n",
       "    }\n",
       "</style>\n",
       "<table border=\"1\" class=\"dataframe\">\n",
       "  <thead>\n",
       "    <tr style=\"text-align: right;\">\n",
       "      <th></th>\n",
       "      <th>WACC</th>\n",
       "      <th>Terminal Growth Rate</th>\n",
       "      <th>Implied Enterprise Value</th>\n",
       "      <th>Implied Stock Price</th>\n",
       "    </tr>\n",
       "  </thead>\n",
       "  <tbody>\n",
       "    <tr>\n",
       "      <th>0</th>\n",
       "      <td>0.126254</td>\n",
       "      <td>0.022785</td>\n",
       "      <td>224997.531831</td>\n",
       "      <td>94.675252</td>\n",
       "    </tr>\n",
       "    <tr>\n",
       "      <th>1</th>\n",
       "      <td>0.097693</td>\n",
       "      <td>0.032403</td>\n",
       "      <td>355296.339027</td>\n",
       "      <td>142.898349</td>\n",
       "    </tr>\n",
       "    <tr>\n",
       "      <th>2</th>\n",
       "      <td>0.117337</td>\n",
       "      <td>0.027861</td>\n",
       "      <td>258557.079415</td>\n",
       "      <td>107.095514</td>\n",
       "    </tr>\n",
       "    <tr>\n",
       "      <th>3</th>\n",
       "      <td>0.122131</td>\n",
       "      <td>0.037570</td>\n",
       "      <td>265912.983138</td>\n",
       "      <td>109.817906</td>\n",
       "    </tr>\n",
       "    <tr>\n",
       "      <th>4</th>\n",
       "      <td>0.102142</td>\n",
       "      <td>0.019211</td>\n",
       "      <td>288542.600549</td>\n",
       "      <td>118.193042</td>\n",
       "    </tr>\n",
       "    <tr>\n",
       "      <th>...</th>\n",
       "      <td>...</td>\n",
       "      <td>...</td>\n",
       "      <td>...</td>\n",
       "      <td>...</td>\n",
       "    </tr>\n",
       "    <tr>\n",
       "      <th>9995</th>\n",
       "      <td>0.120419</td>\n",
       "      <td>0.038044</td>\n",
       "      <td>272952.396267</td>\n",
       "      <td>112.423167</td>\n",
       "    </tr>\n",
       "    <tr>\n",
       "      <th>9996</th>\n",
       "      <td>0.119600</td>\n",
       "      <td>0.026580</td>\n",
       "      <td>249105.777327</td>\n",
       "      <td>103.597623</td>\n",
       "    </tr>\n",
       "    <tr>\n",
       "      <th>9997</th>\n",
       "      <td>0.099657</td>\n",
       "      <td>0.032314</td>\n",
       "      <td>344041.651355</td>\n",
       "      <td>138.733032</td>\n",
       "    </tr>\n",
       "    <tr>\n",
       "      <th>9998</th>\n",
       "      <td>0.123781</td>\n",
       "      <td>0.032559</td>\n",
       "      <td>249422.237103</td>\n",
       "      <td>103.714744</td>\n",
       "    </tr>\n",
       "    <tr>\n",
       "      <th>9999</th>\n",
       "      <td>0.100464</td>\n",
       "      <td>0.030514</td>\n",
       "      <td>332601.566619</td>\n",
       "      <td>134.499099</td>\n",
       "    </tr>\n",
       "  </tbody>\n",
       "</table>\n",
       "<p>10000 rows × 4 columns</p>\n",
       "</div>"
      ],
      "text/plain": [
       "          WACC  Terminal Growth Rate  Implied Enterprise Value  \\\n",
       "0     0.126254              0.022785             224997.531831   \n",
       "1     0.097693              0.032403             355296.339027   \n",
       "2     0.117337              0.027861             258557.079415   \n",
       "3     0.122131              0.037570             265912.983138   \n",
       "4     0.102142              0.019211             288542.600549   \n",
       "...        ...                   ...                       ...   \n",
       "9995  0.120419              0.038044             272952.396267   \n",
       "9996  0.119600              0.026580             249105.777327   \n",
       "9997  0.099657              0.032314             344041.651355   \n",
       "9998  0.123781              0.032559             249422.237103   \n",
       "9999  0.100464              0.030514             332601.566619   \n",
       "\n",
       "      Implied Stock Price  \n",
       "0               94.675252  \n",
       "1              142.898349  \n",
       "2              107.095514  \n",
       "3              109.817906  \n",
       "4              118.193042  \n",
       "...                   ...  \n",
       "9995           112.423167  \n",
       "9996           103.597623  \n",
       "9997           138.733032  \n",
       "9998           103.714744  \n",
       "9999           134.499099  \n",
       "\n",
       "[10000 rows x 4 columns]"
      ]
     },
     "execution_count": 9,
     "metadata": {},
     "output_type": "execute_result"
    }
   ],
   "source": [
    "def enterprise_value_stock_price(data):\n",
    "    table = []\n",
    "    for i in range(n_iterations):\n",
    "        g_rate = rand_tgr(data)\n",
    "        wacc = rand_wacc (data)\n",
    "        new_fcff_list = [x for x in data.free_cash_flows_to_firm]\n",
    "        terminal_value = (new_fcff_list[-1]*(1+g_rate)/(wacc - g_rate))\n",
    "        new_fcff_list[-1] = new_fcff_list[-1]+ terminal_value\n",
    "        enterprise_value = npf.npv(wacc,[0] + new_fcff_list)\n",
    "        \n",
    "        cash_equiv = data.cash_cash_equivalents\n",
    "        mark_sec = data.marketable_sec\n",
    "        debt = data.long_term_debt\n",
    "        shares= data.shares_out_standing\n",
    "        stock_price = (enterprise_value + cash_equiv+mark_sec+debt)/shares\n",
    "        \n",
    "        table.append((wacc,g_rate,enterprise_value,stock_price))\n",
    "    \n",
    "    df = pd.DataFrame(table,columns=[\"WACC\",\"Terminal Growth Rate\", \"Implied Enterprise Value\",\"Implied Stock Price\"])\n",
    "    return df\n",
    "    \n",
    "monte_carlo_df = enterprise_value_stock_price(data)\n",
    "monte_carlo_df"
   ]
  },
  {
   "cell_type": "markdown",
   "id": "9c847402-9ee9-49f2-91d7-24ea5dc1de67",
   "metadata": {},
   "source": [
    "## <a id='Visualizations'>Visualizations</a>"
   ]
  },
  {
   "cell_type": "code",
   "execution_count": 10,
   "id": "b5c72fe7-44d1-4a6c-8034-6caa73be6de7",
   "metadata": {},
   "outputs": [],
   "source": [
    "def styled_df(df):\n",
    "    return df.style.format({\n",
    "        'WACC': '{:.2%}',\n",
    "        'Terminal Growth Rate': '{:.2%}',\n",
    "        'Implied Enterprise Value': '${:,.2f}',\n",
    "        'Implied Stock Price': '${:,.2f}'\n",
    "    }).background_gradient(cmap='RdYlGn',subset=['Implied Stock Price'])"
   ]
  },
  {
   "cell_type": "code",
   "execution_count": 11,
   "id": "8cc1169f-2c09-40b5-8895-07f5b4d1433e",
   "metadata": {},
   "outputs": [
    {
     "data": {
      "text/html": [
       "<style type=\"text/css\">\n",
       "#T_66b0a_row0_col3 {\n",
       "  background-color: #a50026;\n",
       "  color: #f1f1f1;\n",
       "}\n",
       "#T_66b0a_row1_col3 {\n",
       "  background-color: #0d8044;\n",
       "  color: #f1f1f1;\n",
       "}\n",
       "#T_66b0a_row2_col3 {\n",
       "  background-color: #f88950;\n",
       "  color: #f1f1f1;\n",
       "}\n",
       "#T_66b0a_row3_col3 {\n",
       "  background-color: #fdad60;\n",
       "  color: #000000;\n",
       "}\n",
       "#T_66b0a_row4_col3 {\n",
       "  background-color: #fff3ac;\n",
       "  color: #000000;\n",
       "}\n",
       "#T_66b0a_row5_col3 {\n",
       "  background-color: #006837;\n",
       "  color: #f1f1f1;\n",
       "}\n",
       "#T_66b0a_row6_col3 {\n",
       "  background-color: #f57245;\n",
       "  color: #f1f1f1;\n",
       "}\n",
       "#T_66b0a_row7_col3 {\n",
       "  background-color: #148e4b;\n",
       "  color: #f1f1f1;\n",
       "}\n",
       "#T_66b0a_row8_col3 {\n",
       "  background-color: #fff7b2;\n",
       "  color: #000000;\n",
       "}\n",
       "#T_66b0a_row9_col3 {\n",
       "  background-color: #fdb768;\n",
       "  color: #000000;\n",
       "}\n",
       "</style>\n",
       "<table id=\"T_66b0a\">\n",
       "  <thead>\n",
       "    <tr>\n",
       "      <th class=\"blank level0\" >&nbsp;</th>\n",
       "      <th id=\"T_66b0a_level0_col0\" class=\"col_heading level0 col0\" >WACC</th>\n",
       "      <th id=\"T_66b0a_level0_col1\" class=\"col_heading level0 col1\" >Terminal Growth Rate</th>\n",
       "      <th id=\"T_66b0a_level0_col2\" class=\"col_heading level0 col2\" >Implied Enterprise Value</th>\n",
       "      <th id=\"T_66b0a_level0_col3\" class=\"col_heading level0 col3\" >Implied Stock Price</th>\n",
       "    </tr>\n",
       "  </thead>\n",
       "  <tbody>\n",
       "    <tr>\n",
       "      <th id=\"T_66b0a_level0_row0\" class=\"row_heading level0 row0\" >0</th>\n",
       "      <td id=\"T_66b0a_row0_col0\" class=\"data row0 col0\" >12.63%</td>\n",
       "      <td id=\"T_66b0a_row0_col1\" class=\"data row0 col1\" >2.28%</td>\n",
       "      <td id=\"T_66b0a_row0_col2\" class=\"data row0 col2\" >$224,997.53</td>\n",
       "      <td id=\"T_66b0a_row0_col3\" class=\"data row0 col3\" >$94.68</td>\n",
       "    </tr>\n",
       "    <tr>\n",
       "      <th id=\"T_66b0a_level0_row1\" class=\"row_heading level0 row1\" >1</th>\n",
       "      <td id=\"T_66b0a_row1_col0\" class=\"data row1 col0\" >9.77%</td>\n",
       "      <td id=\"T_66b0a_row1_col1\" class=\"data row1 col1\" >3.24%</td>\n",
       "      <td id=\"T_66b0a_row1_col2\" class=\"data row1 col2\" >$355,296.34</td>\n",
       "      <td id=\"T_66b0a_row1_col3\" class=\"data row1 col3\" >$142.90</td>\n",
       "    </tr>\n",
       "    <tr>\n",
       "      <th id=\"T_66b0a_level0_row2\" class=\"row_heading level0 row2\" >2</th>\n",
       "      <td id=\"T_66b0a_row2_col0\" class=\"data row2 col0\" >11.73%</td>\n",
       "      <td id=\"T_66b0a_row2_col1\" class=\"data row2 col1\" >2.79%</td>\n",
       "      <td id=\"T_66b0a_row2_col2\" class=\"data row2 col2\" >$258,557.08</td>\n",
       "      <td id=\"T_66b0a_row2_col3\" class=\"data row2 col3\" >$107.10</td>\n",
       "    </tr>\n",
       "    <tr>\n",
       "      <th id=\"T_66b0a_level0_row3\" class=\"row_heading level0 row3\" >3</th>\n",
       "      <td id=\"T_66b0a_row3_col0\" class=\"data row3 col0\" >12.21%</td>\n",
       "      <td id=\"T_66b0a_row3_col1\" class=\"data row3 col1\" >3.76%</td>\n",
       "      <td id=\"T_66b0a_row3_col2\" class=\"data row3 col2\" >$265,912.98</td>\n",
       "      <td id=\"T_66b0a_row3_col3\" class=\"data row3 col3\" >$109.82</td>\n",
       "    </tr>\n",
       "    <tr>\n",
       "      <th id=\"T_66b0a_level0_row4\" class=\"row_heading level0 row4\" >4</th>\n",
       "      <td id=\"T_66b0a_row4_col0\" class=\"data row4 col0\" >10.21%</td>\n",
       "      <td id=\"T_66b0a_row4_col1\" class=\"data row4 col1\" >1.92%</td>\n",
       "      <td id=\"T_66b0a_row4_col2\" class=\"data row4 col2\" >$288,542.60</td>\n",
       "      <td id=\"T_66b0a_row4_col3\" class=\"data row4 col3\" >$118.19</td>\n",
       "    </tr>\n",
       "    <tr>\n",
       "      <th id=\"T_66b0a_level0_row5\" class=\"row_heading level0 row5\" >5</th>\n",
       "      <td id=\"T_66b0a_row5_col0\" class=\"data row5 col0\" >9.60%</td>\n",
       "      <td id=\"T_66b0a_row5_col1\" class=\"data row5 col1\" >3.18%</td>\n",
       "      <td id=\"T_66b0a_row5_col2\" class=\"data row5 col2\" >$362,272.50</td>\n",
       "      <td id=\"T_66b0a_row5_col3\" class=\"data row5 col3\" >$145.48</td>\n",
       "    </tr>\n",
       "    <tr>\n",
       "      <th id=\"T_66b0a_level0_row6\" class=\"row_heading level0 row6\" >6</th>\n",
       "      <td id=\"T_66b0a_row6_col0\" class=\"data row6 col0\" >11.75%</td>\n",
       "      <td id=\"T_66b0a_row6_col1\" class=\"data row6 col1\" >2.59%</td>\n",
       "      <td id=\"T_66b0a_row6_col2\" class=\"data row6 col2\" >$253,808.21</td>\n",
       "      <td id=\"T_66b0a_row6_col3\" class=\"data row6 col3\" >$105.34</td>\n",
       "    </tr>\n",
       "    <tr>\n",
       "      <th id=\"T_66b0a_level0_row7\" class=\"row_heading level0 row7\" >7</th>\n",
       "      <td id=\"T_66b0a_row7_col0\" class=\"data row7 col0\" >9.48%</td>\n",
       "      <td id=\"T_66b0a_row7_col1\" class=\"data row7 col1\" >2.78%</td>\n",
       "      <td id=\"T_66b0a_row7_col2\" class=\"data row7 col2\" >$351,178.68</td>\n",
       "      <td id=\"T_66b0a_row7_col3\" class=\"data row7 col3\" >$141.37</td>\n",
       "    </tr>\n",
       "    <tr>\n",
       "      <th id=\"T_66b0a_level0_row8\" class=\"row_heading level0 row8\" >8</th>\n",
       "      <td id=\"T_66b0a_row8_col0\" class=\"data row8 col0\" >11.53%</td>\n",
       "      <td id=\"T_66b0a_row8_col1\" class=\"data row8 col1\" >3.75%</td>\n",
       "      <td id=\"T_66b0a_row8_col2\" class=\"data row8 col2\" >$290,319.95</td>\n",
       "      <td id=\"T_66b0a_row8_col3\" class=\"data row8 col3\" >$118.85</td>\n",
       "    </tr>\n",
       "    <tr>\n",
       "      <th id=\"T_66b0a_level0_row9\" class=\"row_heading level0 row9\" >9</th>\n",
       "      <td id=\"T_66b0a_row9_col0\" class=\"data row9 col0\" >11.32%</td>\n",
       "      <td id=\"T_66b0a_row9_col1\" class=\"data row9 col1\" >2.65%</td>\n",
       "      <td id=\"T_66b0a_row9_col2\" class=\"data row9 col2\" >$268,551.64</td>\n",
       "      <td id=\"T_66b0a_row9_col3\" class=\"data row9 col3\" >$110.79</td>\n",
       "    </tr>\n",
       "  </tbody>\n",
       "</table>\n"
      ],
      "text/plain": [
       "<pandas.io.formats.style.Styler at 0x1efb0fe5220>"
      ]
     },
     "execution_count": 11,
     "metadata": {},
     "output_type": "execute_result"
    }
   ],
   "source": [
    "styled_df(monte_carlo_df.head(10))"
   ]
  },
  {
   "cell_type": "markdown",
   "id": "21b3d970-d81a-4b39-acb4-d7845faa8fcc",
   "metadata": {
    "tags": []
   },
   "source": [
    "# <a id='histogram'>Histograms </a>"
   ]
  },
  {
   "cell_type": "code",
   "execution_count": 12,
   "id": "0538f301-244a-4a34-9f00-45eb643b8fb9",
   "metadata": {},
   "outputs": [
    {
     "data": {
      "image/png": "[encoded data removed]",
      "text/plain": [
       "<Figure size 2400x1000 with 2 Axes>"
      ]
     },
     "metadata": {},
     "output_type": "display_data"
    }
   ],
   "source": [
    "plt.figure(figsize=(12,5),dpi=200)\n",
    "plt.suptitle(\"Enterprise Value and Stock Price Histograms\")\n",
    "\n",
    "plt.subplot(1,2,1)\n",
    "monte_carlo_df[\"Implied Enterprise Value\"].plot(kind=\"hist\",bins = 100)\n",
    "plt.title(\"Implied Enterprise Value\")\n",
    "\n",
    "plt.subplot(1,2,2)\n",
    "monte_carlo_df[\"Implied Stock Price\"].plot(kind=\"hist\", bins = 100)\n",
    "plt.title(\"Implied Stock Price\")\n",
    "\n",
    "plt.tight_layout()"
   ]
  },
  {
   "cell_type": "markdown",
   "id": "1a5f305d-7dab-47ad-b91c-ae6d1f4f289e",
   "metadata": {},
   "source": [
    "## <a id='quantiles'>Quantiles</a>"
   ]
  },
  {
   "cell_type": "code",
   "execution_count": 13,
   "id": "ba326bd6-0403-44dd-87f2-7dad889a3172",
   "metadata": {},
   "outputs": [
    {
     "data": {
      "text/html": [
       "<style type=\"text/css\">\n",
       "#T_2f885_row0_col3 {\n",
       "  background-color: #a50026;\n",
       "  color: #f1f1f1;\n",
       "}\n",
       "#T_2f885_row1_col3 {\n",
       "  background-color: #c21c27;\n",
       "  color: #f1f1f1;\n",
       "}\n",
       "#T_2f885_row2_col3 {\n",
       "  background-color: #d93429;\n",
       "  color: #f1f1f1;\n",
       "}\n",
       "#T_2f885_row3_col3 {\n",
       "  background-color: #e44c34;\n",
       "  color: #f1f1f1;\n",
       "}\n",
       "#T_2f885_row4_col3 {\n",
       "  background-color: #ef633f;\n",
       "  color: #f1f1f1;\n",
       "}\n",
       "#T_2f885_row5_col3 {\n",
       "  background-color: #f67a49;\n",
       "  color: #f1f1f1;\n",
       "}\n",
       "#T_2f885_row6_col3 {\n",
       "  background-color: #f98e52;\n",
       "  color: #f1f1f1;\n",
       "}\n",
       "#T_2f885_row7_col3 {\n",
       "  background-color: #fca55d;\n",
       "  color: #000000;\n",
       "}\n",
       "#T_2f885_row8_col3 {\n",
       "  background-color: #fdb768;\n",
       "  color: #000000;\n",
       "}\n",
       "#T_2f885_row9_col3 {\n",
       "  background-color: #fec877;\n",
       "  color: #000000;\n",
       "}\n",
       "#T_2f885_row10_col3 {\n",
       "  background-color: #fed884;\n",
       "  color: #000000;\n",
       "}\n",
       "#T_2f885_row11_col3 {\n",
       "  background-color: #fee797;\n",
       "  color: #000000;\n",
       "}\n",
       "#T_2f885_row12_col3 {\n",
       "  background-color: #fff6b0;\n",
       "  color: #000000;\n",
       "}\n",
       "#T_2f885_row13_col3 {\n",
       "  background-color: #f8fcb6;\n",
       "  color: #000000;\n",
       "}\n",
       "#T_2f885_row14_col3 {\n",
       "  background-color: #e5f49b;\n",
       "  color: #000000;\n",
       "}\n",
       "#T_2f885_row15_col3 {\n",
       "  background-color: #cbe982;\n",
       "  color: #000000;\n",
       "}\n",
       "#T_2f885_row16_col3 {\n",
       "  background-color: #a5d86a;\n",
       "  color: #000000;\n",
       "}\n",
       "#T_2f885_row17_col3 {\n",
       "  background-color: #5db961;\n",
       "  color: #f1f1f1;\n",
       "}\n",
       "#T_2f885_row18_col3 {\n",
       "  background-color: #006837;\n",
       "  color: #f1f1f1;\n",
       "}\n",
       "</style>\n",
       "<table id=\"T_2f885\">\n",
       "  <thead>\n",
       "    <tr>\n",
       "      <th class=\"blank level0\" >&nbsp;</th>\n",
       "      <th id=\"T_2f885_level0_col0\" class=\"col_heading level0 col0\" >WACC</th>\n",
       "      <th id=\"T_2f885_level0_col1\" class=\"col_heading level0 col1\" >Terminal Growth Rate</th>\n",
       "      <th id=\"T_2f885_level0_col2\" class=\"col_heading level0 col2\" >Implied Enterprise Value</th>\n",
       "      <th id=\"T_2f885_level0_col3\" class=\"col_heading level0 col3\" >Implied Stock Price</th>\n",
       "    </tr>\n",
       "  </thead>\n",
       "  <tbody>\n",
       "    <tr>\n",
       "      <th id=\"T_2f885_level0_row0\" class=\"row_heading level0 row0\" >0.050000</th>\n",
       "      <td id=\"T_2f885_row0_col0\" class=\"data row0 col0\" >8.67%</td>\n",
       "      <td id=\"T_2f885_row0_col1\" class=\"data row0 col1\" >2.21%</td>\n",
       "      <td id=\"T_2f885_row0_col2\" class=\"data row0 col2\" >$231,904.22</td>\n",
       "      <td id=\"T_2f885_row0_col3\" class=\"data row0 col3\" >$97.23</td>\n",
       "    </tr>\n",
       "    <tr>\n",
       "      <th id=\"T_2f885_level0_row1\" class=\"row_heading level0 row1\" >0.100000</th>\n",
       "      <td id=\"T_2f885_row1_col0\" class=\"data row1 col0\" >9.08%</td>\n",
       "      <td id=\"T_2f885_row1_col1\" class=\"data row1 col1\" >2.38%</td>\n",
       "      <td id=\"T_2f885_row1_col2\" class=\"data row1 col2\" >$244,123.94</td>\n",
       "      <td id=\"T_2f885_row1_col3\" class=\"data row1 col3\" >$101.75</td>\n",
       "    </tr>\n",
       "    <tr>\n",
       "      <th id=\"T_2f885_level0_row2\" class=\"row_heading level0 row2\" >0.150000</th>\n",
       "      <td id=\"T_2f885_row2_col0\" class=\"data row2 col0\" >9.40%</td>\n",
       "      <td id=\"T_2f885_row2_col1\" class=\"data row2 col1\" >2.49%</td>\n",
       "      <td id=\"T_2f885_row2_col2\" class=\"data row2 col2\" >$253,046.22</td>\n",
       "      <td id=\"T_2f885_row2_col3\" class=\"data row2 col3\" >$105.06</td>\n",
       "    </tr>\n",
       "    <tr>\n",
       "      <th id=\"T_2f885_level0_row3\" class=\"row_heading level0 row3\" >0.200000</th>\n",
       "      <td id=\"T_2f885_row3_col0\" class=\"data row3 col0\" >9.67%</td>\n",
       "      <td id=\"T_2f885_row3_col1\" class=\"data row3 col1\" >2.59%</td>\n",
       "      <td id=\"T_2f885_row3_col2\" class=\"data row3 col2\" >$260,867.37</td>\n",
       "      <td id=\"T_2f885_row3_col3\" class=\"data row3 col3\" >$107.95</td>\n",
       "    </tr>\n",
       "    <tr>\n",
       "      <th id=\"T_2f885_level0_row4\" class=\"row_heading level0 row4\" >0.250000</th>\n",
       "      <td id=\"T_2f885_row4_col0\" class=\"data row4 col0\" >9.86%</td>\n",
       "      <td id=\"T_2f885_row4_col1\" class=\"data row4 col1\" >2.67%</td>\n",
       "      <td id=\"T_2f885_row4_col2\" class=\"data row4 col2\" >$267,979.86</td>\n",
       "      <td id=\"T_2f885_row4_col3\" class=\"data row4 col3\" >$110.58</td>\n",
       "    </tr>\n",
       "    <tr>\n",
       "      <th id=\"T_2f885_level0_row5\" class=\"row_heading level0 row5\" >0.300000</th>\n",
       "      <td id=\"T_2f885_row5_col0\" class=\"data row5 col0\" >10.05%</td>\n",
       "      <td id=\"T_2f885_row5_col1\" class=\"data row5 col1\" >2.74%</td>\n",
       "      <td id=\"T_2f885_row5_col2\" class=\"data row5 col2\" >$274,752.73</td>\n",
       "      <td id=\"T_2f885_row5_col3\" class=\"data row5 col3\" >$113.09</td>\n",
       "    </tr>\n",
       "    <tr>\n",
       "      <th id=\"T_2f885_level0_row6\" class=\"row_heading level0 row6\" >0.350000</th>\n",
       "      <td id=\"T_2f885_row6_col0\" class=\"data row6 col0\" >10.23%</td>\n",
       "      <td id=\"T_2f885_row6_col1\" class=\"data row6 col1\" >2.81%</td>\n",
       "      <td id=\"T_2f885_row6_col2\" class=\"data row6 col2\" >$281,457.24</td>\n",
       "      <td id=\"T_2f885_row6_col3\" class=\"data row6 col3\" >$115.57</td>\n",
       "    </tr>\n",
       "    <tr>\n",
       "      <th id=\"T_2f885_level0_row7\" class=\"row_heading level0 row7\" >0.400000</th>\n",
       "      <td id=\"T_2f885_row7_col0\" class=\"data row7 col0\" >10.39%</td>\n",
       "      <td id=\"T_2f885_row7_col1\" class=\"data row7 col1\" >2.88%</td>\n",
       "      <td id=\"T_2f885_row7_col2\" class=\"data row7 col2\" >$287,951.82</td>\n",
       "      <td id=\"T_2f885_row7_col3\" class=\"data row7 col3\" >$117.97</td>\n",
       "    </tr>\n",
       "    <tr>\n",
       "      <th id=\"T_2f885_level0_row8\" class=\"row_heading level0 row8\" >0.450000</th>\n",
       "      <td id=\"T_2f885_row8_col0\" class=\"data row8 col0\" >10.55%</td>\n",
       "      <td id=\"T_2f885_row8_col1\" class=\"data row8 col1\" >2.94%</td>\n",
       "      <td id=\"T_2f885_row8_col2\" class=\"data row8 col2\" >$294,520.03</td>\n",
       "      <td id=\"T_2f885_row8_col3\" class=\"data row8 col3\" >$120.41</td>\n",
       "    </tr>\n",
       "    <tr>\n",
       "      <th id=\"T_2f885_level0_row9\" class=\"row_heading level0 row9\" >0.500000</th>\n",
       "      <td id=\"T_2f885_row9_col0\" class=\"data row9 col0\" >10.70%</td>\n",
       "      <td id=\"T_2f885_row9_col1\" class=\"data row9 col1\" >3.00%</td>\n",
       "      <td id=\"T_2f885_row9_col2\" class=\"data row9 col2\" >$300,873.66</td>\n",
       "      <td id=\"T_2f885_row9_col3\" class=\"data row9 col3\" >$122.76</td>\n",
       "    </tr>\n",
       "    <tr>\n",
       "      <th id=\"T_2f885_level0_row10\" class=\"row_heading level0 row10\" >0.550000</th>\n",
       "      <td id=\"T_2f885_row10_col0\" class=\"data row10 col0\" >10.86%</td>\n",
       "      <td id=\"T_2f885_row10_col1\" class=\"data row10 col1\" >3.06%</td>\n",
       "      <td id=\"T_2f885_row10_col2\" class=\"data row10 col2\" >$307,070.45</td>\n",
       "      <td id=\"T_2f885_row10_col3\" class=\"data row10 col3\" >$125.05</td>\n",
       "    </tr>\n",
       "    <tr>\n",
       "      <th id=\"T_2f885_level0_row11\" class=\"row_heading level0 row11\" >0.600000</th>\n",
       "      <td id=\"T_2f885_row11_col0\" class=\"data row11 col0\" >11.02%</td>\n",
       "      <td id=\"T_2f885_row11_col1\" class=\"data row11 col1\" >3.13%</td>\n",
       "      <td id=\"T_2f885_row11_col2\" class=\"data row11 col2\" >$315,084.74</td>\n",
       "      <td id=\"T_2f885_row11_col3\" class=\"data row11 col3\" >$128.02</td>\n",
       "    </tr>\n",
       "    <tr>\n",
       "      <th id=\"T_2f885_level0_row12\" class=\"row_heading level0 row12\" >0.650000</th>\n",
       "      <td id=\"T_2f885_row12_col0\" class=\"data row12 col0\" >11.20%</td>\n",
       "      <td id=\"T_2f885_row12_col1\" class=\"data row12 col1\" >3.20%</td>\n",
       "      <td id=\"T_2f885_row12_col2\" class=\"data row12 col2\" >$324,120.22</td>\n",
       "      <td id=\"T_2f885_row12_col3\" class=\"data row12 col3\" >$131.36</td>\n",
       "    </tr>\n",
       "    <tr>\n",
       "      <th id=\"T_2f885_level0_row13\" class=\"row_heading level0 row13\" >0.700000</th>\n",
       "      <td id=\"T_2f885_row13_col0\" class=\"data row13 col0\" >11.37%</td>\n",
       "      <td id=\"T_2f885_row13_col1\" class=\"data row13 col1\" >3.26%</td>\n",
       "      <td id=\"T_2f885_row13_col2\" class=\"data row13 col2\" >$333,078.96</td>\n",
       "      <td id=\"T_2f885_row13_col3\" class=\"data row13 col3\" >$134.68</td>\n",
       "    </tr>\n",
       "    <tr>\n",
       "      <th id=\"T_2f885_level0_row14\" class=\"row_heading level0 row14\" >0.750000</th>\n",
       "      <td id=\"T_2f885_row14_col0\" class=\"data row14 col0\" >11.56%</td>\n",
       "      <td id=\"T_2f885_row14_col1\" class=\"data row14 col1\" >3.34%</td>\n",
       "      <td id=\"T_2f885_row14_col2\" class=\"data row14 col2\" >$342,665.08</td>\n",
       "      <td id=\"T_2f885_row14_col3\" class=\"data row14 col3\" >$138.22</td>\n",
       "    </tr>\n",
       "    <tr>\n",
       "      <th id=\"T_2f885_level0_row15\" class=\"row_heading level0 row15\" >0.800000</th>\n",
       "      <td id=\"T_2f885_row15_col0\" class=\"data row15 col0\" >11.77%</td>\n",
       "      <td id=\"T_2f885_row15_col1\" class=\"data row15 col1\" >3.42%</td>\n",
       "      <td id=\"T_2f885_row15_col2\" class=\"data row15 col2\" >$354,530.94</td>\n",
       "      <td id=\"T_2f885_row15_col3\" class=\"data row15 col3\" >$142.62</td>\n",
       "    </tr>\n",
       "    <tr>\n",
       "      <th id=\"T_2f885_level0_row16\" class=\"row_heading level0 row16\" >0.850000</th>\n",
       "      <td id=\"T_2f885_row16_col0\" class=\"data row16 col0\" >12.02%</td>\n",
       "      <td id=\"T_2f885_row16_col1\" class=\"data row16 col1\" >3.52%</td>\n",
       "      <td id=\"T_2f885_row16_col2\" class=\"data row16 col2\" >$369,200.54</td>\n",
       "      <td id=\"T_2f885_row16_col3\" class=\"data row16 col3\" >$148.04</td>\n",
       "    </tr>\n",
       "    <tr>\n",
       "      <th id=\"T_2f885_level0_row17\" class=\"row_heading level0 row17\" >0.900000</th>\n",
       "      <td id=\"T_2f885_row17_col0\" class=\"data row17 col0\" >12.31%</td>\n",
       "      <td id=\"T_2f885_row17_col1\" class=\"data row17 col1\" >3.65%</td>\n",
       "      <td id=\"T_2f885_row17_col2\" class=\"data row17 col2\" >$390,167.61</td>\n",
       "      <td id=\"T_2f885_row17_col3\" class=\"data row17 col3\" >$155.80</td>\n",
       "    </tr>\n",
       "    <tr>\n",
       "      <th id=\"T_2f885_level0_row18\" class=\"row_heading level0 row18\" >0.950000</th>\n",
       "      <td id=\"T_2f885_row18_col0\" class=\"data row18 col0\" >12.76%</td>\n",
       "      <td id=\"T_2f885_row18_col1\" class=\"data row18 col1\" >3.82%</td>\n",
       "      <td id=\"T_2f885_row18_col2\" class=\"data row18 col2\" >$427,449.95</td>\n",
       "      <td id=\"T_2f885_row18_col3\" class=\"data row18 col3\" >$169.60</td>\n",
       "    </tr>\n",
       "  </tbody>\n",
       "</table>\n"
      ],
      "text/plain": [
       "<pandas.io.formats.style.Styler at 0x1efaa006610>"
      ]
     },
     "execution_count": 13,
     "metadata": {},
     "output_type": "execute_result"
    }
   ],
   "source": [
    "quantile = monte_carlo_df.quantile([i / 20 for i in range(1, 20)])\n",
    "styled_df(quantile)"
   ]
  }
 ],
 "metadata": {
  "kernelspec": {
   "display_name": "Python 3 (ipykernel)",
   "language": "python",
   "name": "python3"
  },
  "language_info": {
   "codemirror_mode": {
    "name": "ipython",
    "version": 3
   },
   "file_extension": ".py",
   "mimetype": "text/x-python",
   "name": "python",
   "nbconvert_exporter": "python",
   "pygments_lexer": "ipython3",
   "version": "3.9.12"
  }
 },
 "nbformat": 4,
 "nbformat_minor": 5
}
